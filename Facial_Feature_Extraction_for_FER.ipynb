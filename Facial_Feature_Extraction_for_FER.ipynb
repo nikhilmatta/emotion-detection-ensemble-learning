{
  "nbformat": 4,
  "nbformat_minor": 0,
  "metadata": {
    "colab": {
      "name": "Facial Feature Extraction for FER.ipynb",
      "provenance": [],
      "collapsed_sections": [
        "AndNE6hAXBVn",
        "UMGVaGk8IvQY",
        "I1WDUAWIHEus"
      ],
      "machine_shape": "hm"
    },
    "kernelspec": {
      "name": "python3",
      "display_name": "Python 3"
    },
    "language_info": {
      "name": "python"
    },
    "accelerator": "GPU"
  },
  "cells": [
    {
      "cell_type": "code",
      "source": [
        "from google.colab import drive\n",
        "drive.mount('/content/drive')"
      ],
      "metadata": {
        "colab": {
          "base_uri": "https://localhost:8080/"
        },
        "id": "ZblbTtG1WhiG",
        "outputId": "7d397ef2-4d23-4aac-c59d-eb1a1ff8e7bf"
      },
      "execution_count": null,
      "outputs": [
        {
          "output_type": "stream",
          "name": "stdout",
          "text": [
            "Drive already mounted at /content/drive; to attempt to forcibly remount, call drive.mount(\"/content/drive\", force_remount=True).\n"
          ]
        }
      ]
    },
    {
      "cell_type": "code",
      "source": [
        "import tensorflow as tf\n",
        "tf.__version__\n",
        "\n",
        "!sudo pip3 install keras"
      ],
      "metadata": {
        "colab": {
          "base_uri": "https://localhost:8080/"
        },
        "id": "3pEnZjNLgW81",
        "outputId": "b64b0a27-bcb7-44b1-855e-625f06ff80d3"
      },
      "execution_count": null,
      "outputs": [
        {
          "output_type": "stream",
          "name": "stdout",
          "text": [
            "Requirement already satisfied: keras in /usr/local/lib/python3.7/dist-packages (2.8.0)\n"
          ]
        }
      ]
    },
    {
      "cell_type": "code",
      "execution_count": null,
      "metadata": {
        "id": "M2X_Mg_keneL"
      },
      "outputs": [],
      "source": [
        "import os\n",
        "import re\n",
        "import glob\n",
        "import pandas as pd\n",
        "import cv2\n",
        "import matplotlib.pyplot as plt\n",
        "import numpy as np\n",
        "import seaborn as sns\n",
        "import matplotlib.pyplot as plt\n",
        "\n",
        "from sklearn.preprocessing import LabelEncoder\n",
        "from keras.utils import np_utils\n",
        "\n",
        "from tensorflow.keras import optimizers\n",
        "from tensorflow.keras.optimizers import Adam\n",
        "from tensorflow.keras.applications import VGG16\n",
        "from tensorflow.keras.models import Sequential\n",
        "from tensorflow.keras.layers import GlobalAveragePooling2D, Flatten, Conv2D, MaxPooling2D, Dense, Dropout, BatchNormalization\n",
        "from tensorflow.keras.callbacks import EarlyStopping, ModelCheckpoint, ReduceLROnPlateau\n",
        "from tensorflow.keras.preprocessing.image import ImageDataGenerator\n",
        "from tensorflow.keras.utils import to_categorical\n",
        "from sklearn.model_selection import train_test_split\n",
        "import matplotlib.pyplot as plt\n",
        "import json"
      ]
    },
    {
      "cell_type": "code",
      "source": [
        "BASE_PATH = '/content/drive/MyDrive/ml-project/FaceDataset'\n",
        "MODEL_DIR = BASE_PATH + '/model'"
      ],
      "metadata": {
        "id": "NLSyX5ERfWLz"
      },
      "execution_count": null,
      "outputs": []
    },
    {
      "cell_type": "code",
      "source": [
        "images = []\n",
        "image_ids = []\n",
        "image_props = {}\n",
        "labels_to_emotion = {0: 'anger',\n",
        "                    1: 'disgust',\n",
        "                    2: 'fear',\n",
        "                    3: 'happy',\n",
        "                    4: 'neutral',\n",
        "                    5: 'sadness',\n",
        "                    6: 'surprise'}"
      ],
      "metadata": {
        "id": "Ns30xRjXf3ZJ"
      },
      "execution_count": null,
      "outputs": []
    },
    {
      "cell_type": "code",
      "source": [
        "! ls '/content/drive/MyDrive/ml-project/FaceDataset/fer'"
      ],
      "metadata": {
        "colab": {
          "base_uri": "https://localhost:8080/"
        },
        "id": "lnXNZDvzgpPI",
        "outputId": "8f3931c7-997d-4093-9c61-532f47d19fe7"
      },
      "execution_count": null,
      "outputs": [
        {
          "output_type": "stream",
          "name": "stdout",
          "text": [
            "fer2013.csv\n"
          ]
        }
      ]
    },
    {
      "cell_type": "markdown",
      "source": [
        "Preparing FER images"
      ],
      "metadata": {
        "id": "d8Z5oo7SgGQG"
      }
    },
    {
      "cell_type": "code",
      "source": [
        "df_fer = pd.read_csv('/content/drive/MyDrive/ml-project/FaceDataset/fer/fer2013.csv')\n",
        "df_fer['emotion_decoded'] = df_fer['emotion'].apply(lambda x: labels_to_emotion[x])\n",
        "df_fer"
      ],
      "metadata": {
        "colab": {
          "base_uri": "https://localhost:8080/",
          "height": 424
        },
        "id": "WTSU3vCZgJV-",
        "outputId": "62c4c043-c82a-4d6d-c1dc-2b6895b7060d"
      },
      "execution_count": null,
      "outputs": [
        {
          "output_type": "execute_result",
          "data": {
            "text/plain": [
              "       emotion                                             pixels  \\\n",
              "0            0  70 80 82 72 58 58 60 63 54 58 60 48 89 115 121...   \n",
              "1            0  151 150 147 155 148 133 111 140 170 174 182 15...   \n",
              "2            2  231 212 156 164 174 138 161 173 182 200 106 38...   \n",
              "3            4  24 32 36 30 32 23 19 20 30 41 21 22 32 34 21 1...   \n",
              "4            6  4 0 0 0 0 0 0 0 0 0 0 0 3 15 23 28 48 50 58 84...   \n",
              "...        ...                                                ...   \n",
              "35882        6  50 36 17 22 23 29 33 39 34 37 37 37 39 43 48 5...   \n",
              "35883        3  178 174 172 173 181 188 191 194 196 199 200 20...   \n",
              "35884        0  17 17 16 23 28 22 19 17 25 26 20 24 31 19 27 9...   \n",
              "35885        3  30 28 28 29 31 30 42 68 79 81 77 67 67 71 63 6...   \n",
              "35886        2  19 13 14 12 13 16 21 33 50 57 71 84 97 108 122...   \n",
              "\n",
              "             Usage emotion_decoded  \n",
              "0         Training           anger  \n",
              "1         Training           anger  \n",
              "2         Training            fear  \n",
              "3         Training         sadness  \n",
              "4         Training         neutral  \n",
              "...            ...             ...  \n",
              "35882  PrivateTest         neutral  \n",
              "35883  PrivateTest           happy  \n",
              "35884  PrivateTest           anger  \n",
              "35885  PrivateTest           happy  \n",
              "35886  PrivateTest            fear  \n",
              "\n",
              "[35887 rows x 4 columns]"
            ],
            "text/html": [
              "\n",
              "  <div id=\"df-92058501-b797-4818-927c-6a799f2a467f\">\n",
              "    <div class=\"colab-df-container\">\n",
              "      <div>\n",
              "<style scoped>\n",
              "    .dataframe tbody tr th:only-of-type {\n",
              "        vertical-align: middle;\n",
              "    }\n",
              "\n",
              "    .dataframe tbody tr th {\n",
              "        vertical-align: top;\n",
              "    }\n",
              "\n",
              "    .dataframe thead th {\n",
              "        text-align: right;\n",
              "    }\n",
              "</style>\n",
              "<table border=\"1\" class=\"dataframe\">\n",
              "  <thead>\n",
              "    <tr style=\"text-align: right;\">\n",
              "      <th></th>\n",
              "      <th>emotion</th>\n",
              "      <th>pixels</th>\n",
              "      <th>Usage</th>\n",
              "      <th>emotion_decoded</th>\n",
              "    </tr>\n",
              "  </thead>\n",
              "  <tbody>\n",
              "    <tr>\n",
              "      <th>0</th>\n",
              "      <td>0</td>\n",
              "      <td>70 80 82 72 58 58 60 63 54 58 60 48 89 115 121...</td>\n",
              "      <td>Training</td>\n",
              "      <td>anger</td>\n",
              "    </tr>\n",
              "    <tr>\n",
              "      <th>1</th>\n",
              "      <td>0</td>\n",
              "      <td>151 150 147 155 148 133 111 140 170 174 182 15...</td>\n",
              "      <td>Training</td>\n",
              "      <td>anger</td>\n",
              "    </tr>\n",
              "    <tr>\n",
              "      <th>2</th>\n",
              "      <td>2</td>\n",
              "      <td>231 212 156 164 174 138 161 173 182 200 106 38...</td>\n",
              "      <td>Training</td>\n",
              "      <td>fear</td>\n",
              "    </tr>\n",
              "    <tr>\n",
              "      <th>3</th>\n",
              "      <td>4</td>\n",
              "      <td>24 32 36 30 32 23 19 20 30 41 21 22 32 34 21 1...</td>\n",
              "      <td>Training</td>\n",
              "      <td>sadness</td>\n",
              "    </tr>\n",
              "    <tr>\n",
              "      <th>4</th>\n",
              "      <td>6</td>\n",
              "      <td>4 0 0 0 0 0 0 0 0 0 0 0 3 15 23 28 48 50 58 84...</td>\n",
              "      <td>Training</td>\n",
              "      <td>neutral</td>\n",
              "    </tr>\n",
              "    <tr>\n",
              "      <th>...</th>\n",
              "      <td>...</td>\n",
              "      <td>...</td>\n",
              "      <td>...</td>\n",
              "      <td>...</td>\n",
              "    </tr>\n",
              "    <tr>\n",
              "      <th>35882</th>\n",
              "      <td>6</td>\n",
              "      <td>50 36 17 22 23 29 33 39 34 37 37 37 39 43 48 5...</td>\n",
              "      <td>PrivateTest</td>\n",
              "      <td>neutral</td>\n",
              "    </tr>\n",
              "    <tr>\n",
              "      <th>35883</th>\n",
              "      <td>3</td>\n",
              "      <td>178 174 172 173 181 188 191 194 196 199 200 20...</td>\n",
              "      <td>PrivateTest</td>\n",
              "      <td>happy</td>\n",
              "    </tr>\n",
              "    <tr>\n",
              "      <th>35884</th>\n",
              "      <td>0</td>\n",
              "      <td>17 17 16 23 28 22 19 17 25 26 20 24 31 19 27 9...</td>\n",
              "      <td>PrivateTest</td>\n",
              "      <td>anger</td>\n",
              "    </tr>\n",
              "    <tr>\n",
              "      <th>35885</th>\n",
              "      <td>3</td>\n",
              "      <td>30 28 28 29 31 30 42 68 79 81 77 67 67 71 63 6...</td>\n",
              "      <td>PrivateTest</td>\n",
              "      <td>happy</td>\n",
              "    </tr>\n",
              "    <tr>\n",
              "      <th>35886</th>\n",
              "      <td>2</td>\n",
              "      <td>19 13 14 12 13 16 21 33 50 57 71 84 97 108 122...</td>\n",
              "      <td>PrivateTest</td>\n",
              "      <td>fear</td>\n",
              "    </tr>\n",
              "  </tbody>\n",
              "</table>\n",
              "<p>35887 rows × 4 columns</p>\n",
              "</div>\n",
              "      <button class=\"colab-df-convert\" onclick=\"convertToInteractive('df-92058501-b797-4818-927c-6a799f2a467f')\"\n",
              "              title=\"Convert this dataframe to an interactive table.\"\n",
              "              style=\"display:none;\">\n",
              "        \n",
              "  <svg xmlns=\"http://www.w3.org/2000/svg\" height=\"24px\"viewBox=\"0 0 24 24\"\n",
              "       width=\"24px\">\n",
              "    <path d=\"M0 0h24v24H0V0z\" fill=\"none\"/>\n",
              "    <path d=\"M18.56 5.44l.94 2.06.94-2.06 2.06-.94-2.06-.94-.94-2.06-.94 2.06-2.06.94zm-11 1L8.5 8.5l.94-2.06 2.06-.94-2.06-.94L8.5 2.5l-.94 2.06-2.06.94zm10 10l.94 2.06.94-2.06 2.06-.94-2.06-.94-.94-2.06-.94 2.06-2.06.94z\"/><path d=\"M17.41 7.96l-1.37-1.37c-.4-.4-.92-.59-1.43-.59-.52 0-1.04.2-1.43.59L10.3 9.45l-7.72 7.72c-.78.78-.78 2.05 0 2.83L4 21.41c.39.39.9.59 1.41.59.51 0 1.02-.2 1.41-.59l7.78-7.78 2.81-2.81c.8-.78.8-2.07 0-2.86zM5.41 20L4 18.59l7.72-7.72 1.47 1.35L5.41 20z\"/>\n",
              "  </svg>\n",
              "      </button>\n",
              "      \n",
              "  <style>\n",
              "    .colab-df-container {\n",
              "      display:flex;\n",
              "      flex-wrap:wrap;\n",
              "      gap: 12px;\n",
              "    }\n",
              "\n",
              "    .colab-df-convert {\n",
              "      background-color: #E8F0FE;\n",
              "      border: none;\n",
              "      border-radius: 50%;\n",
              "      cursor: pointer;\n",
              "      display: none;\n",
              "      fill: #1967D2;\n",
              "      height: 32px;\n",
              "      padding: 0 0 0 0;\n",
              "      width: 32px;\n",
              "    }\n",
              "\n",
              "    .colab-df-convert:hover {\n",
              "      background-color: #E2EBFA;\n",
              "      box-shadow: 0px 1px 2px rgba(60, 64, 67, 0.3), 0px 1px 3px 1px rgba(60, 64, 67, 0.15);\n",
              "      fill: #174EA6;\n",
              "    }\n",
              "\n",
              "    [theme=dark] .colab-df-convert {\n",
              "      background-color: #3B4455;\n",
              "      fill: #D2E3FC;\n",
              "    }\n",
              "\n",
              "    [theme=dark] .colab-df-convert:hover {\n",
              "      background-color: #434B5C;\n",
              "      box-shadow: 0px 1px 3px 1px rgba(0, 0, 0, 0.15);\n",
              "      filter: drop-shadow(0px 1px 2px rgba(0, 0, 0, 0.3));\n",
              "      fill: #FFFFFF;\n",
              "    }\n",
              "  </style>\n",
              "\n",
              "      <script>\n",
              "        const buttonEl =\n",
              "          document.querySelector('#df-92058501-b797-4818-927c-6a799f2a467f button.colab-df-convert');\n",
              "        buttonEl.style.display =\n",
              "          google.colab.kernel.accessAllowed ? 'block' : 'none';\n",
              "\n",
              "        async function convertToInteractive(key) {\n",
              "          const element = document.querySelector('#df-92058501-b797-4818-927c-6a799f2a467f');\n",
              "          const dataTable =\n",
              "            await google.colab.kernel.invokeFunction('convertToInteractive',\n",
              "                                                     [key], {});\n",
              "          if (!dataTable) return;\n",
              "\n",
              "          const docLinkHtml = 'Like what you see? Visit the ' +\n",
              "            '<a target=\"_blank\" href=https://colab.research.google.com/notebooks/data_table.ipynb>data table notebook</a>'\n",
              "            + ' to learn more about interactive tables.';\n",
              "          element.innerHTML = '';\n",
              "          dataTable['output_type'] = 'display_data';\n",
              "          await google.colab.output.renderOutput(dataTable, element);\n",
              "          const docLink = document.createElement('div');\n",
              "          docLink.innerHTML = docLinkHtml;\n",
              "          element.appendChild(docLink);\n",
              "        }\n",
              "      </script>\n",
              "    </div>\n",
              "  </div>\n",
              "  "
            ]
          },
          "metadata": {},
          "execution_count": 63
        }
      ]
    },
    {
      "cell_type": "code",
      "source": [
        "fig = plt.figure(1, (14, 14))\n",
        "\n",
        "k = 0\n",
        "print('FER Dataset')\n",
        "for label in sorted(df_fer['emotion'].unique()):\n",
        "    for j in range(1):\n",
        "        px = df_fer[df_fer.emotion==label].pixels.iloc[k + 4]\n",
        "        px = np.array(px.split(' ')).reshape(48, 48).astype('float32')\n",
        "        k += 1\n",
        "        ax = plt.subplot(7, 1, k)\n",
        "        ax.imshow(px, cmap='gray')\n",
        "        ax.axis('off')\n",
        "        ax.set_title(labels_to_emotion[label])\n",
        "        # plt.tight_layout()"
      ],
      "metadata": {
        "colab": {
          "base_uri": "https://localhost:8080/",
          "height": 825
        },
        "id": "n1cR9qOXBY6V",
        "outputId": "9c2c7bbc-f930-47f6-d203-ac1694b96f2d"
      },
      "execution_count": null,
      "outputs": [
        {
          "output_type": "stream",
          "name": "stdout",
          "text": [
            "FER Dataset\n"
          ]
        },
        {
          "output_type": "display_data",
          "data": {
            "text/plain": [
              "<Figure size 1008x1008 with 7 Axes>"
            ],
            "image/png": "[encoded data removed]"
          },
          "metadata": {}
        }
      ]
    },
    {
      "cell_type": "code",
      "source": [
        "img_array = df_fer['pixels'].apply(lambda x: np.array(x.split(' '))\n",
        "            .reshape(48, 48, 1)\n",
        "            .astype('float32'))\n",
        "img_array = np.stack(img_array, axis=0)\n",
        "img_array.shape # (21264, 48, 48, 1)\n",
        "\n",
        "le = LabelEncoder()\n",
        "img_labels = le.fit_transform(df_fer['emotion'])\n",
        "img_labels = np_utils.to_categorical(img_labels)\n",
        "img_labels.shape # (21264, 3)\n",
        "\n",
        "le_name_mapping = dict(zip(le.classes_, le.transform(le.classes_)))\n",
        "le_name_mapping # {3: 0, 4: 1, 6: 2}"
      ],
      "metadata": {
        "colab": {
          "base_uri": "https://localhost:8080/"
        },
        "id": "AC_tmdVZhLDK",
        "outputId": "cfa37efa-7a82-40bf-8a8b-c0384109d54d"
      },
      "execution_count": null,
      "outputs": [
        {
          "output_type": "execute_result",
          "data": {
            "text/plain": [
              "{0: 0, 1: 1, 2: 2, 3: 3, 4: 4, 5: 5, 6: 6}"
            ]
          },
          "metadata": {},
          "execution_count": 17
        }
      ]
    },
    {
      "cell_type": "markdown",
      "source": [
        "### Approach 1"
      ],
      "metadata": {
        "id": "AndNE6hAXBVn"
      }
    },
    {
      "cell_type": "code",
      "source": [
        "X_train, X_valid, y_train, y_valid = train_test_split(\n",
        "  img_array,\n",
        "  img_labels,\n",
        "  shuffle=True, \n",
        "  stratify=img_labels,\n",
        "  test_size=0.1, \n",
        "  random_state=42\n",
        ")\n",
        "\n",
        "print(X_train.shape, X_valid.shape, y_train.shape, y_valid.shape)\n",
        "\n",
        "# Normalizing arrays, as neural networks are very sensitive to unnormalized data.\n",
        "X_train = X_train / 255.\n",
        "X_valid = X_valid / 255.\n",
        "\n",
        "img_width = X_train.shape[1]\n",
        "img_height = X_train.shape[2]\n",
        "img_depth = X_train.shape[3]\n",
        "num_classes = y_train.shape[1]"
      ],
      "metadata": {
        "colab": {
          "base_uri": "https://localhost:8080/"
        },
        "id": "8ShuR9H2hx2W",
        "outputId": "3128fb5e-ea89-425f-9700-836fcfad2d73"
      },
      "execution_count": null,
      "outputs": [
        {
          "output_type": "stream",
          "name": "stdout",
          "text": [
            "(32298, 48, 48, 3) (3589, 48, 48, 3) (32298, 7) (3589, 7)\n"
          ]
        }
      ]
    },
    {
      "cell_type": "code",
      "source": [
        "def build_net(optim):\n",
        "    net = Sequential(name='DCNN')\n",
        "\n",
        "    net.add(\n",
        "        Conv2D(\n",
        "            filters=64,\n",
        "            kernel_size=(5,5),\n",
        "            input_shape=(img_width, img_height, img_depth),\n",
        "            activation='elu',\n",
        "            padding='same',\n",
        "            kernel_initializer='he_normal',\n",
        "            name='conv2d_1'\n",
        "        )\n",
        "    )\n",
        "    net.add(BatchNormalization(name='batchnorm_1'))\n",
        "    net.add(\n",
        "        Conv2D(\n",
        "            filters=64,\n",
        "            kernel_size=(5,5),\n",
        "            activation='elu',\n",
        "            padding='same',\n",
        "            kernel_initializer='he_normal',\n",
        "            name='conv2d_2'\n",
        "        )\n",
        "    )\n",
        "    net.add(BatchNormalization(name='batchnorm_2'))\n",
        "    \n",
        "    net.add(MaxPooling2D(pool_size=(2,2), name='maxpool2d_1'))\n",
        "    net.add(Dropout(0.4, name='dropout_1'))\n",
        "\n",
        "    net.add(\n",
        "        Conv2D(\n",
        "            filters=128,\n",
        "            kernel_size=(3,3),\n",
        "            activation='elu',\n",
        "            padding='same',\n",
        "            kernel_initializer='he_normal',\n",
        "            name='conv2d_3'\n",
        "        )\n",
        "    )\n",
        "    net.add(BatchNormalization(name='batchnorm_3'))\n",
        "    net.add(\n",
        "        Conv2D(\n",
        "            filters=128,\n",
        "            kernel_size=(3,3),\n",
        "            activation='elu',\n",
        "            padding='same',\n",
        "            kernel_initializer='he_normal',\n",
        "            name='conv2d_4'\n",
        "        )\n",
        "    )\n",
        "    net.add(BatchNormalization(name='batchnorm_4'))\n",
        "    \n",
        "    net.add(MaxPooling2D(pool_size=(2,2), name='maxpool2d_2'))\n",
        "    net.add(Dropout(0.4, name='dropout_2'))\n",
        "\n",
        "    net.add(\n",
        "        Conv2D(\n",
        "            filters=256,\n",
        "            kernel_size=(3,3),\n",
        "            activation='elu',\n",
        "            padding='same',\n",
        "            kernel_initializer='he_normal',\n",
        "            name='conv2d_5'\n",
        "        )\n",
        "    )\n",
        "    net.add(BatchNormalization(name='batchnorm_5'))\n",
        "    net.add(\n",
        "        Conv2D(\n",
        "            filters=256,\n",
        "            kernel_size=(3,3),\n",
        "            activation='elu',\n",
        "            padding='same',\n",
        "            kernel_initializer='he_normal',\n",
        "            name='conv2d_6'\n",
        "        )\n",
        "    )\n",
        "    net.add(BatchNormalization(name='batchnorm_6'))\n",
        "    \n",
        "    net.add(MaxPooling2D(pool_size=(2,2), name='maxpool2d_3'))\n",
        "    net.add(Dropout(0.5, name='dropout_3'))\n",
        "\n",
        "    net.add(Flatten(name='flatten'))\n",
        "        \n",
        "    net.add(\n",
        "        Dense(\n",
        "            128,\n",
        "            activation='elu',\n",
        "            kernel_initializer='he_normal',\n",
        "            name='dense_1'\n",
        "        )\n",
        "    )\n",
        "    net.add(BatchNormalization(name='batchnorm_7'))\n",
        "    \n",
        "    net.add(Dropout(0.6, name='dropout_4'))\n",
        "    \n",
        "    net.add(\n",
        "        Dense(\n",
        "            num_classes,\n",
        "            activation='softmax',\n",
        "            name='out_layer'\n",
        "        )\n",
        "    )\n",
        "    \n",
        "    net.compile(\n",
        "        loss='categorical_crossentropy',\n",
        "        optimizer=optim,\n",
        "        metrics=['accuracy']\n",
        "    )\n",
        "    \n",
        "    net.summary()\n",
        "    \n",
        "    return net"
      ],
      "metadata": {
        "id": "giY-EU_xiak8"
      },
      "execution_count": null,
      "outputs": []
    },
    {
      "cell_type": "code",
      "source": [
        "early_stopping = EarlyStopping(\n",
        "    monitor='val_accuracy',\n",
        "    min_delta=0.00005,\n",
        "    patience=11,\n",
        "    verbose=1,\n",
        "    restore_best_weights=True,\n",
        ")\n",
        "\n",
        "lr_scheduler = ReduceLROnPlateau(\n",
        "    monitor='val_accuracy',\n",
        "    factor=0.5,\n",
        "    patience=7,\n",
        "    min_lr=1e-7,\n",
        "    verbose=1,\n",
        ")\n",
        "\n",
        "MC = ModelCheckpoint(MODEL_DIR + '/model_e_{epoch:02d}.hdf5',\n",
        "                     save_best_only=True,\n",
        "                     save_weights_only=True)\n",
        "\n",
        "callbacks = [\n",
        "    early_stopping,\n",
        "    lr_scheduler,\n",
        "]"
      ],
      "metadata": {
        "id": "X7XO3Siwir2h"
      },
      "execution_count": null,
      "outputs": []
    },
    {
      "cell_type": "code",
      "source": [
        "train_datagen = ImageDataGenerator(\n",
        "    rotation_range=15,\n",
        "    width_shift_range=0.15,\n",
        "    height_shift_range=0.15,\n",
        "    shear_range=0.15,\n",
        "    zoom_range=0.15,\n",
        "    horizontal_flip=True,\n",
        ")\n",
        "\n",
        "train_datagen.fit(X_train)"
      ],
      "metadata": {
        "id": "OMamW5uAi235"
      },
      "execution_count": null,
      "outputs": []
    },
    {
      "cell_type": "code",
      "source": [
        "batch_size = 32 #batch size of 32 performs the best.\n",
        "\n",
        "epochs = 50\n",
        "\n",
        "optims = [\n",
        "  optimizers.Adam(0.001),\n",
        "]"
      ],
      "metadata": {
        "id": "QzJcM7fXjDL-"
      },
      "execution_count": null,
      "outputs": []
    },
    {
      "cell_type": "code",
      "source": [
        "model = build_net(optims[0]) \n",
        "\n",
        "history = model.fit(\n",
        "    train_datagen.flow(X_train, y_train, batch_size=batch_size),\n",
        "    validation_data=(X_valid, y_valid),\n",
        "    steps_per_epoch=len(X_train) / batch_size,\n",
        "    epochs=epochs,\n",
        "    callbacks=callbacks,\n",
        "    use_multiprocessing=True\n",
        ")"
      ],
      "metadata": {
        "colab": {
          "base_uri": "https://localhost:8080/"
        },
        "id": "GYqCOY3SjEhj",
        "outputId": "bb1de957-9fe6-4a35-99d2-1b83dd535eb8"
      },
      "execution_count": null,
      "outputs": [
        {
          "output_type": "stream",
          "name": "stdout",
          "text": [
            "Model: \"DCNN\"\n",
            "_________________________________________________________________\n",
            " Layer (type)                Output Shape              Param #   \n",
            "=================================================================\n",
            " conv2d_1 (Conv2D)           (None, 48, 48, 64)        4864      \n",
            "                                                                 \n",
            " batchnorm_1 (BatchNormaliza  (None, 48, 48, 64)       256       \n",
            " tion)                                                           \n",
            "                                                                 \n",
            " conv2d_2 (Conv2D)           (None, 48, 48, 64)        102464    \n",
            "                                                                 \n",
            " batchnorm_2 (BatchNormaliza  (None, 48, 48, 64)       256       \n",
            " tion)                                                           \n",
            "                                                                 \n",
            " maxpool2d_1 (MaxPooling2D)  (None, 24, 24, 64)        0         \n",
            "                                                                 \n",
            " dropout_1 (Dropout)         (None, 24, 24, 64)        0         \n",
            "                                                                 \n",
            " conv2d_3 (Conv2D)           (None, 24, 24, 128)       73856     \n",
            "                                                                 \n",
            " batchnorm_3 (BatchNormaliza  (None, 24, 24, 128)      512       \n",
            " tion)                                                           \n",
            "                                                                 \n",
            " conv2d_4 (Conv2D)           (None, 24, 24, 128)       147584    \n",
            "                                                                 \n",
            " batchnorm_4 (BatchNormaliza  (None, 24, 24, 128)      512       \n",
            " tion)                                                           \n",
            "                                                                 \n",
            " maxpool2d_2 (MaxPooling2D)  (None, 12, 12, 128)       0         \n",
            "                                                                 \n",
            " dropout_2 (Dropout)         (None, 12, 12, 128)       0         \n",
            "                                                                 \n",
            " conv2d_5 (Conv2D)           (None, 12, 12, 256)       295168    \n",
            "                                                                 \n",
            " batchnorm_5 (BatchNormaliza  (None, 12, 12, 256)      1024      \n",
            " tion)                                                           \n",
            "                                                                 \n",
            " conv2d_6 (Conv2D)           (None, 12, 12, 256)       590080    \n",
            "                                                                 \n",
            " batchnorm_6 (BatchNormaliza  (None, 12, 12, 256)      1024      \n",
            " tion)                                                           \n",
            "                                                                 \n",
            " maxpool2d_3 (MaxPooling2D)  (None, 6, 6, 256)         0         \n",
            "                                                                 \n",
            " dropout_3 (Dropout)         (None, 6, 6, 256)         0         \n",
            "                                                                 \n",
            " flatten (Flatten)           (None, 9216)              0         \n",
            "                                                                 \n",
            " dense_1 (Dense)             (None, 128)               1179776   \n",
            "                                                                 \n",
            " batchnorm_7 (BatchNormaliza  (None, 128)              512       \n",
            " tion)                                                           \n",
            "                                                                 \n",
            " dropout_4 (Dropout)         (None, 128)               0         \n",
            "                                                                 \n",
            " out_layer (Dense)           (None, 7)                 903       \n",
            "                                                                 \n",
            "=================================================================\n",
            "Total params: 2,398,791\n",
            "Trainable params: 2,396,743\n",
            "Non-trainable params: 2,048\n",
            "_________________________________________________________________\n",
            "Epoch 1/50\n",
            "1009/1009 [==============================] - 28s 26ms/step - loss: 2.0598 - accuracy: 0.2380 - val_loss: 1.7415 - val_accuracy: 0.3154 - lr: 0.0010\n",
            "Epoch 2/50\n",
            "1009/1009 [==============================] - 26s 25ms/step - loss: 1.6429 - accuracy: 0.3505 - val_loss: 1.5896 - val_accuracy: 0.4060 - lr: 0.0010\n",
            "Epoch 3/50\n",
            "1009/1009 [==============================] - 26s 26ms/step - loss: 1.4715 - accuracy: 0.4334 - val_loss: 1.2620 - val_accuracy: 0.5205 - lr: 0.0010\n",
            "Epoch 4/50\n",
            "1009/1009 [==============================] - 26s 26ms/step - loss: 1.3828 - accuracy: 0.4716 - val_loss: 1.1865 - val_accuracy: 0.5508 - lr: 0.0010\n",
            "Epoch 5/50\n",
            "1009/1009 [==============================] - 26s 26ms/step - loss: 1.3231 - accuracy: 0.5008 - val_loss: 1.2054 - val_accuracy: 0.5469 - lr: 0.0010\n",
            "Epoch 6/50\n",
            "1009/1009 [==============================] - 25s 24ms/step - loss: 1.2862 - accuracy: 0.5154 - val_loss: 1.1305 - val_accuracy: 0.5692 - lr: 0.0010\n",
            "Epoch 7/50\n",
            "1009/1009 [==============================] - 25s 25ms/step - loss: 1.2413 - accuracy: 0.5348 - val_loss: 1.1019 - val_accuracy: 0.5790 - lr: 0.0010\n",
            "Epoch 8/50\n",
            "1009/1009 [==============================] - 25s 25ms/step - loss: 1.2078 - accuracy: 0.5448 - val_loss: 1.1029 - val_accuracy: 0.5765 - lr: 0.0010\n",
            "Epoch 9/50\n",
            "1009/1009 [==============================] - 25s 25ms/step - loss: 1.1847 - accuracy: 0.5531 - val_loss: 1.0706 - val_accuracy: 0.6013 - lr: 0.0010\n",
            "Epoch 10/50\n",
            "1009/1009 [==============================] - 25s 25ms/step - loss: 1.1637 - accuracy: 0.5627 - val_loss: 1.0883 - val_accuracy: 0.5926 - lr: 0.0010\n",
            "Epoch 11/50\n",
            "1009/1009 [==============================] - 25s 25ms/step - loss: 1.1528 - accuracy: 0.5676 - val_loss: 0.9990 - val_accuracy: 0.6174 - lr: 0.0010\n",
            "Epoch 12/50\n",
            "1009/1009 [==============================] - 25s 25ms/step - loss: 1.1298 - accuracy: 0.5769 - val_loss: 1.0120 - val_accuracy: 0.6225 - lr: 0.0010\n",
            "Epoch 13/50\n",
            "1009/1009 [==============================] - 25s 25ms/step - loss: 1.1174 - accuracy: 0.5821 - val_loss: 1.1019 - val_accuracy: 0.5890 - lr: 0.0010\n",
            "Epoch 14/50\n",
            "1009/1009 [==============================] - 25s 24ms/step - loss: 1.1098 - accuracy: 0.5857 - val_loss: 1.0025 - val_accuracy: 0.6236 - lr: 0.0010\n",
            "Epoch 15/50\n",
            "1009/1009 [==============================] - 24s 24ms/step - loss: 1.1048 - accuracy: 0.5888 - val_loss: 1.0144 - val_accuracy: 0.6225 - lr: 0.0010\n",
            "Epoch 16/50\n",
            "1009/1009 [==============================] - 25s 24ms/step - loss: 1.0840 - accuracy: 0.5928 - val_loss: 0.9986 - val_accuracy: 0.6264 - lr: 0.0010\n",
            "Epoch 17/50\n",
            "1009/1009 [==============================] - 25s 25ms/step - loss: 1.0787 - accuracy: 0.5965 - val_loss: 1.1144 - val_accuracy: 0.5860 - lr: 0.0010\n",
            "Epoch 18/50\n",
            "1009/1009 [==============================] - 25s 25ms/step - loss: 1.0714 - accuracy: 0.5997 - val_loss: 0.9578 - val_accuracy: 0.6392 - lr: 0.0010\n",
            "Epoch 19/50\n",
            "1009/1009 [==============================] - 25s 25ms/step - loss: 1.0677 - accuracy: 0.6047 - val_loss: 0.9599 - val_accuracy: 0.6434 - lr: 0.0010\n",
            "Epoch 20/50\n",
            "1009/1009 [==============================] - 25s 24ms/step - loss: 1.0524 - accuracy: 0.6114 - val_loss: 0.9570 - val_accuracy: 0.6400 - lr: 0.0010\n",
            "Epoch 21/50\n",
            "1009/1009 [==============================] - 25s 24ms/step - loss: 1.0557 - accuracy: 0.6081 - val_loss: 0.9376 - val_accuracy: 0.6473 - lr: 0.0010\n",
            "Epoch 22/50\n",
            "1009/1009 [==============================] - 25s 24ms/step - loss: 1.0370 - accuracy: 0.6131 - val_loss: 0.9897 - val_accuracy: 0.6247 - lr: 0.0010\n",
            "Epoch 23/50\n",
            "1009/1009 [==============================] - 25s 24ms/step - loss: 1.0322 - accuracy: 0.6186 - val_loss: 0.9723 - val_accuracy: 0.6442 - lr: 0.0010\n",
            "Epoch 24/50\n",
            "1009/1009 [==============================] - 25s 24ms/step - loss: 1.0248 - accuracy: 0.6191 - val_loss: 0.9435 - val_accuracy: 0.6456 - lr: 0.0010\n",
            "Epoch 25/50\n",
            "1009/1009 [==============================] - 25s 24ms/step - loss: 1.0207 - accuracy: 0.6224 - val_loss: 0.9683 - val_accuracy: 0.6406 - lr: 0.0010\n",
            "Epoch 26/50\n",
            "1009/1009 [==============================] - 25s 24ms/step - loss: 1.0227 - accuracy: 0.6190 - val_loss: 0.9528 - val_accuracy: 0.6500 - lr: 0.0010\n",
            "Epoch 27/50\n",
            "1009/1009 [==============================] - 25s 24ms/step - loss: 1.0167 - accuracy: 0.6235 - val_loss: 0.9282 - val_accuracy: 0.6556 - lr: 0.0010\n",
            "Epoch 28/50\n",
            "1009/1009 [==============================] - 25s 25ms/step - loss: 1.0006 - accuracy: 0.6318 - val_loss: 0.9131 - val_accuracy: 0.6578 - lr: 0.0010\n",
            "Epoch 29/50\n",
            "1009/1009 [==============================] - 25s 25ms/step - loss: 0.9971 - accuracy: 0.6288 - val_loss: 0.9235 - val_accuracy: 0.6604 - lr: 0.0010\n",
            "Epoch 30/50\n",
            "1009/1009 [==============================] - 25s 25ms/step - loss: 0.9909 - accuracy: 0.6338 - val_loss: 0.9372 - val_accuracy: 0.6556 - lr: 0.0010\n",
            "Epoch 31/50\n",
            "1009/1009 [==============================] - 25s 25ms/step - loss: 0.9863 - accuracy: 0.6334 - val_loss: 0.9401 - val_accuracy: 0.6531 - lr: 0.0010\n",
            "Epoch 32/50\n",
            "1009/1009 [==============================] - 25s 25ms/step - loss: 0.9857 - accuracy: 0.6364 - val_loss: 0.9199 - val_accuracy: 0.6645 - lr: 0.0010\n",
            "Epoch 33/50\n",
            "1009/1009 [==============================] - 25s 25ms/step - loss: 0.9850 - accuracy: 0.6349 - val_loss: 0.9159 - val_accuracy: 0.6565 - lr: 0.0010\n",
            "Epoch 34/50\n",
            "1009/1009 [==============================] - 25s 25ms/step - loss: 0.9809 - accuracy: 0.6395 - val_loss: 0.9514 - val_accuracy: 0.6456 - lr: 0.0010\n",
            "Epoch 35/50\n",
            "1009/1009 [==============================] - 25s 25ms/step - loss: 0.9719 - accuracy: 0.6414 - val_loss: 0.9132 - val_accuracy: 0.6676 - lr: 0.0010\n",
            "Epoch 36/50\n",
            "1009/1009 [==============================] - 25s 25ms/step - loss: 0.9715 - accuracy: 0.6395 - val_loss: 0.9076 - val_accuracy: 0.6648 - lr: 0.0010\n",
            "Epoch 37/50\n",
            "1009/1009 [==============================] - 25s 25ms/step - loss: 0.9647 - accuracy: 0.6435 - val_loss: 0.9476 - val_accuracy: 0.6578 - lr: 0.0010\n",
            "Epoch 38/50\n",
            "1009/1009 [==============================] - 25s 25ms/step - loss: 0.9559 - accuracy: 0.6497 - val_loss: 0.9091 - val_accuracy: 0.6709 - lr: 0.0010\n",
            "Epoch 39/50\n",
            "1009/1009 [==============================] - 25s 25ms/step - loss: 0.9609 - accuracy: 0.6426 - val_loss: 0.8919 - val_accuracy: 0.6707 - lr: 0.0010\n",
            "Epoch 40/50\n",
            "1009/1009 [==============================] - 25s 25ms/step - loss: 0.9539 - accuracy: 0.6468 - val_loss: 0.9264 - val_accuracy: 0.6598 - lr: 0.0010\n",
            "Epoch 41/50\n",
            "1009/1009 [==============================] - 26s 25ms/step - loss: 0.9516 - accuracy: 0.6490 - val_loss: 0.9258 - val_accuracy: 0.6592 - lr: 0.0010\n",
            "Epoch 42/50\n",
            "1009/1009 [==============================] - 25s 25ms/step - loss: 0.9480 - accuracy: 0.6541 - val_loss: 0.9196 - val_accuracy: 0.6648 - lr: 0.0010\n",
            "Epoch 43/50\n",
            "1009/1009 [==============================] - 25s 24ms/step - loss: 0.9446 - accuracy: 0.6538 - val_loss: 0.9221 - val_accuracy: 0.6587 - lr: 0.0010\n",
            "Epoch 44/50\n",
            "1009/1009 [==============================] - 24s 24ms/step - loss: 0.9430 - accuracy: 0.6542 - val_loss: 0.9031 - val_accuracy: 0.6687 - lr: 0.0010\n",
            "Epoch 45/50\n",
            "1009/1009 [==============================] - 24s 24ms/step - loss: 0.9342 - accuracy: 0.6566 - val_loss: 0.8859 - val_accuracy: 0.6771 - lr: 0.0010\n",
            "Epoch 46/50\n",
            "1009/1009 [==============================] - 24s 23ms/step - loss: 0.9364 - accuracy: 0.6569 - val_loss: 0.8722 - val_accuracy: 0.6757 - lr: 0.0010\n",
            "Epoch 47/50\n",
            "1009/1009 [==============================] - 24s 24ms/step - loss: 0.9335 - accuracy: 0.6576 - val_loss: 0.8844 - val_accuracy: 0.6765 - lr: 0.0010\n",
            "Epoch 48/50\n",
            "1009/1009 [==============================] - 24s 24ms/step - loss: 0.9215 - accuracy: 0.6607 - val_loss: 0.9047 - val_accuracy: 0.6643 - lr: 0.0010\n",
            "Epoch 49/50\n",
            "1009/1009 [==============================] - 25s 25ms/step - loss: 0.9246 - accuracy: 0.6588 - val_loss: 0.8981 - val_accuracy: 0.6676 - lr: 0.0010\n",
            "Epoch 50/50\n",
            "1009/1009 [==============================] - 25s 24ms/step - loss: 0.9243 - accuracy: 0.6612 - val_loss: 0.9022 - val_accuracy: 0.6698 - lr: 0.0010\n"
          ]
        }
      ]
    },
    {
      "cell_type": "code",
      "source": [
        "hyp = model.predict(X_valid)\n",
        "hyp"
      ],
      "metadata": {
        "colab": {
          "base_uri": "https://localhost:8080/"
        },
        "id": "wRwcv7f79Nw0",
        "outputId": "a578615f-31b9-460d-f377-b363e668a6e4"
      },
      "execution_count": null,
      "outputs": [
        {
          "output_type": "execute_result",
          "data": {
            "text/plain": [
              "array([[4.99726385e-02, 6.83931925e-04, 5.66250861e-01, ...,\n",
              "        4.87248488e-02, 1.40995011e-01, 6.40584379e-02],\n",
              "       [3.54817341e-04, 1.11828044e-07, 3.78189608e-02, ...,\n",
              "        2.24525051e-04, 9.61014271e-01, 2.75925675e-04],\n",
              "       [6.15691915e-02, 1.91398175e-03, 1.75558388e-01, ...,\n",
              "        8.67466070e-03, 7.42157936e-01, 4.89301793e-03],\n",
              "       ...,\n",
              "       [4.05693918e-01, 9.61725018e-04, 5.91696613e-02, ...,\n",
              "        2.83119828e-01, 9.46217217e-04, 2.44725972e-01],\n",
              "       [2.08265167e-02, 7.63988995e-04, 3.49943899e-02, ...,\n",
              "        9.41392362e-01, 2.04855533e-05, 1.83249242e-03],\n",
              "       [6.11027852e-02, 7.55468733e-04, 1.56640351e-01, ...,\n",
              "        6.75959945e-01, 1.95097306e-03, 1.01738900e-01]], dtype=float32)"
            ]
          },
          "metadata": {},
          "execution_count": 127
        }
      ]
    },
    {
      "cell_type": "code",
      "source": [
        "np.argmax(y_valid[0])"
      ],
      "metadata": {
        "colab": {
          "base_uri": "https://localhost:8080/"
        },
        "id": "gsbR0iuC9RDZ",
        "outputId": "9ecfb8fb-9528-4bad-daed-7d1037c993e3"
      },
      "execution_count": null,
      "outputs": [
        {
          "output_type": "execute_result",
          "data": {
            "text/plain": [
              "2"
            ]
          },
          "metadata": {},
          "execution_count": 94
        }
      ]
    },
    {
      "cell_type": "code",
      "source": [
        "hyp[0]"
      ],
      "metadata": {
        "colab": {
          "base_uri": "https://localhost:8080/"
        },
        "id": "8qUa3SFQ9XVL",
        "outputId": "a866de7b-0c1a-4c8a-c592-2093ded773c1"
      },
      "execution_count": null,
      "outputs": [
        {
          "output_type": "execute_result",
          "data": {
            "text/plain": [
              "array([0.04997264, 0.00068393, 0.56625086, 0.12931427, 0.04872485,\n",
              "       0.14099501, 0.06405844], dtype=float32)"
            ]
          },
          "metadata": {},
          "execution_count": 89
        }
      ]
    },
    {
      "cell_type": "code",
      "source": [
        "np.argmax(hyp[0])"
      ],
      "metadata": {
        "colab": {
          "base_uri": "https://localhost:8080/"
        },
        "id": "B_yBpK539brD",
        "outputId": "3462a5e9-d4fd-4e20-8a2c-a27828ecb96f"
      },
      "execution_count": null,
      "outputs": [
        {
          "output_type": "execute_result",
          "data": {
            "text/plain": [
              "2"
            ]
          },
          "metadata": {},
          "execution_count": 90
        }
      ]
    },
    {
      "cell_type": "code",
      "source": [
        "# plotting heatmap\n",
        "from sklearn.metrics import confusion_matrix, f1_score\n",
        "import seaborn as sns\n",
        "\n",
        "y_valid2 = [np.argmax(y) for y in y_valid]\n",
        "hyp2 = [np.argmax(hy) for hy in hyp]\n",
        "\n",
        "cm = confusion_matrix(y_valid2, hyp2, normalize=\"true\")\n",
        "sns.heatmap(cm, annot=True,xticklabels=le.classes_, yticklabels=le.classes_,)\n",
        "plt.show()"
      ],
      "metadata": {
        "colab": {
          "base_uri": "https://localhost:8080/",
          "height": 268
        },
        "id": "Oij8d_Lb34oo",
        "outputId": "68cad7da-5452-41ef-a655-ad9f368dbba9"
      },
      "execution_count": null,
      "outputs": [
        {
          "output_type": "display_data",
          "data": {
            "text/plain": [
              "<Figure size 432x288 with 2 Axes>"
            ],
            "image/png": "[encoded data removed]"
          },
          "metadata": {}
        }
      ]
    },
    {
      "cell_type": "code",
      "source": [
        "# compute f1 score\n",
        "f1_score(y_valid2, hyp2, average='weighted')"
      ],
      "metadata": {
        "colab": {
          "base_uri": "https://localhost:8080/"
        },
        "id": "dRr4yDrd-qYo",
        "outputId": "fc61bf72-2060-4906-c54d-b9019cfb9da2"
      },
      "execution_count": null,
      "outputs": [
        {
          "output_type": "execute_result",
          "data": {
            "text/plain": [
              "0.6662018445724254"
            ]
          },
          "metadata": {},
          "execution_count": 101
        }
      ]
    },
    {
      "cell_type": "code",
      "source": [
        "sns.set()\n",
        "fig = plt.figure(2, (8, 8))\n",
        "\n",
        "ax = plt.subplot(2, 1, 1)\n",
        "sns.lineplot(x=history.epoch, y=history.history['accuracy'], label='train')\n",
        "sns.lineplot(x=history.epoch, y=history.history['val_accuracy'], label='valid')\n",
        "plt.title('Accuracy')\n",
        "plt.xlabel('Epoch #')\n",
        "plt.ylabel('percent')\n",
        "plt.tight_layout()\n",
        "\n",
        "ax = plt.subplot(2, 1, 2)\n",
        "sns.lineplot(x=history.epoch, y=history.history['loss'], label='train')\n",
        "sns.lineplot(x=history.epoch, y=history.history['val_loss'], label='valid')\n",
        "plt.title('Loss')\n",
        "plt.xlabel('Epoch #')\n",
        "plt.ylabel('loss')\n",
        "plt.tight_layout()\n",
        "\n",
        "plt.savefig(MODEL_DIR + '/epoch_history_dcnn2.png')\n",
        "plt.show()"
      ],
      "metadata": {
        "colab": {
          "base_uri": "https://localhost:8080/",
          "height": 581
        },
        "id": "RXZg7E2CjPO7",
        "outputId": "1ff81fe1-ae27-4d01-f14e-6a9775fde2ad"
      },
      "execution_count": null,
      "outputs": [
        {
          "output_type": "display_data",
          "data": {
            "text/plain": [
              "<Figure size 576x576 with 2 Axes>"
            ],
            "image/png": "[encoded data removed]"
          },
          "metadata": {}
        }
      ]
    },
    {
      "cell_type": "code",
      "source": [
        "# saving the model\n",
        "model_yaml = model.to_json()\n",
        "with open(MODEL_DIR + \"/model.yaml\", \"w\") as yaml_file:\n",
        "    yaml_file.write(model_yaml)\n",
        "    \n",
        "model.save(MODEL_DIR + \"/model.h5\")"
      ],
      "metadata": {
        "id": "sq40CVGMjSM-"
      },
      "execution_count": null,
      "outputs": []
    },
    {
      "cell_type": "markdown",
      "source": [
        "### Approach 2"
      ],
      "metadata": {
        "id": "UMGVaGk8IvQY"
      }
    },
    {
      "cell_type": "code",
      "source": [
        "img_array = df_fer['pixels'].apply(lambda x: np.array(x.split(' '))\n",
        "            .reshape(48, 48, 1)\n",
        "            .astype('float32'))\n",
        "img_array = [cv2.merge((img, img, img)) for img in img_array]\n",
        "img_array = np.stack(img_array, axis=0)\n",
        "img_array.shape # (21264, 48, 48, 1)\n",
        "\n",
        "X_train, X_valid, y_train, y_valid = train_test_split(\n",
        "  img_array,\n",
        "  img_labels,\n",
        "  shuffle=True, \n",
        "  stratify=img_labels,\n",
        "  test_size=0.1, \n",
        "  random_state=42\n",
        ")\n",
        "\n",
        "X_train = X_train / 255.\n",
        "X_valid = X_valid / 255.\n",
        "\n",
        "img_width = X_train.shape[1]\n",
        "img_height = X_train.shape[2]\n",
        "img_depth = X_train.shape[3]\n",
        "num_classes = y_train.shape[1]"
      ],
      "metadata": {
        "id": "wXB28GJtJH-Z"
      },
      "execution_count": null,
      "outputs": []
    },
    {
      "cell_type": "code",
      "source": [
        "img_array[0].shape"
      ],
      "metadata": {
        "colab": {
          "base_uri": "https://localhost:8080/"
        },
        "id": "JlkWyYiaJuR9",
        "outputId": "78452252-fc42-412f-a285-bae65509c2c8"
      },
      "execution_count": null,
      "outputs": [
        {
          "output_type": "execute_result",
          "data": {
            "text/plain": [
              "(48, 48, 3)"
            ]
          },
          "metadata": {},
          "execution_count": 65
        }
      ]
    },
    {
      "cell_type": "code",
      "source": [
        "def build_advanced_net(model_weights=None, image_size: int = 224, classes: int = 7) -> Sequential:\n",
        "\n",
        "    conv_base = VGG16(include_top=False,\n",
        "                      weights='imagenet',\n",
        "                      input_shape=(image_size, image_size, 3))\n",
        "    for layer in conv_base.layers[:-2]:\n",
        "        layer.trainable = False\n",
        "    model = Sequential()\n",
        "    model.add(conv_base)\n",
        "    model.add(GlobalAveragePooling2D())\n",
        "    model.add(Dense(512, activation='relu'))\n",
        "    model.add(Dense(256, activation='relu'))\n",
        "    model.add(Dropout(0.2))\n",
        "    model.add(Dense(64, activation='relu'))\n",
        "    model.add(BatchNormalization())\n",
        "    model.add(Dense(32, activation='relu'))\n",
        "    model.add(Dense(16, activation='relu'))\n",
        "    model.add(Dense(classes, activation='softmax'))\n",
        "    if model_weights is not None:\n",
        "        print('Extracting models from path!')\n",
        "        model.load_weights(model_weights)\n",
        "\n",
        "    return model"
      ],
      "metadata": {
        "id": "4JCEKEKeIuUU"
      },
      "execution_count": null,
      "outputs": []
    },
    {
      "cell_type": "code",
      "source": [
        "from keras.models import Model\n",
        "from tensorflow.keras import regularizers\n",
        "\n",
        "conv_base = VGG16(include_top=False,\n",
        "                      weights='imagenet',\n",
        "                      input_shape=(48, 48, 3))\n",
        "for layer in conv_base.layers[:-3]:\n",
        "  layer.trainable = False\n",
        "top_model = conv_base.output\n",
        "top_model = Flatten(name=\"flatten\")(top_model)\n",
        "top_model = Dense(4096, activation='relu', kernel_regularizer=regularizers.l2(0.001))(top_model)\n",
        "top_model = Dense(1072, activation='relu')(top_model)\n",
        "top_model = Dropout(0.2)(top_model)\n",
        "output_layer = Dense(7, activation='softmax')(top_model)\n",
        "    \n",
        "model = Model(inputs=conv_base.input, outputs=output_layer)\n",
        "\n",
        "model.compile(optimizer=optimizers.Adam(0.001), \n",
        "                  loss='categorical_crossentropy',\n",
        "                  metrics=['accuracy'])\n",
        "        "
      ],
      "metadata": {
        "id": "70jD_aFQbdr5"
      },
      "execution_count": null,
      "outputs": []
    },
    {
      "cell_type": "code",
      "source": [
        "img_array[0].shape"
      ],
      "metadata": {
        "colab": {
          "base_uri": "https://localhost:8080/"
        },
        "id": "KztcYBQVeAYL",
        "outputId": "8b6c18c0-1e82-422c-df65-64cdf93f564f"
      },
      "execution_count": null,
      "outputs": [
        {
          "output_type": "execute_result",
          "data": {
            "text/plain": [
              "(48, 48, 3)"
            ]
          },
          "metadata": {},
          "execution_count": 68
        }
      ]
    },
    {
      "cell_type": "code",
      "source": [
        "# parameters\n",
        "NUM_EPOCHS = 50\n",
        "BATCH_SIZE = 64\n",
        "LEARN_RATE = 0.001\n",
        "TEST_RATIO = 0.2\n",
        "SEED = 60\n",
        "NUM_CLASSES = 7"
      ],
      "metadata": {
        "id": "gXWRrRDjcyc2"
      },
      "execution_count": null,
      "outputs": []
    },
    {
      "cell_type": "code",
      "source": [
        "ES = EarlyStopping(monitor='val_loss',\n",
        "                   patience=2)\n",
        "MC = ModelCheckpoint(MODEL_DIR + '/model_e_{epoch:02d}.hdf5',\n",
        "                     save_best_only=True,\n",
        "                     save_weights_only=True)\n",
        "print('[INFO] starting training...')\n",
        "aug = ImageDataGenerator(rotation_range=0.2,\n",
        "                             shear_range=0.15)\n",
        "\n",
        "H = model.fit(aug.flow(X_train, y_train, batch_size=BATCH_SIZE),\n",
        "              epochs=NUM_EPOCHS,\n",
        "              validation_data=aug.flow(X_valid, y_valid, batch_size=BATCH_SIZE),\n",
        "              callbacks=[MC],\n",
        "              verbose=1)"
      ],
      "metadata": {
        "id": "UFuwYbJFcrnt",
        "colab": {
          "base_uri": "https://localhost:8080/"
        },
        "outputId": "9d73f345-f6ff-41aa-d733-5d7ea9ac7ac4"
      },
      "execution_count": null,
      "outputs": [
        {
          "output_type": "stream",
          "name": "stdout",
          "text": [
            "[INFO] starting training...\n",
            "Epoch 1/50\n",
            "505/505 [==============================] - 25s 47ms/step - loss: 1.9222 - accuracy: 0.2483 - val_loss: 1.8297 - val_accuracy: 0.2505\n",
            "Epoch 2/50\n",
            "505/505 [==============================] - 24s 47ms/step - loss: 1.8212 - accuracy: 0.2505 - val_loss: 1.8149 - val_accuracy: 0.2505\n",
            "Epoch 3/50\n",
            "505/505 [==============================] - 23s 46ms/step - loss: 1.8144 - accuracy: 0.2505 - val_loss: 1.8148 - val_accuracy: 0.2505\n",
            "Epoch 4/50\n",
            "505/505 [==============================] - 25s 49ms/step - loss: 1.8127 - accuracy: 0.2505 - val_loss: 1.8111 - val_accuracy: 0.2505\n",
            "Epoch 5/50\n",
            "505/505 [==============================] - 24s 48ms/step - loss: 1.8120 - accuracy: 0.2505 - val_loss: 1.8110 - val_accuracy: 0.2505\n",
            "Epoch 6/50\n",
            "505/505 [==============================] - 23s 46ms/step - loss: 1.8116 - accuracy: 0.2505 - val_loss: 1.8119 - val_accuracy: 0.2505\n",
            "Epoch 7/50\n",
            "505/505 [==============================] - 23s 46ms/step - loss: 1.8116 - accuracy: 0.2505 - val_loss: 1.8117 - val_accuracy: 0.2505\n",
            "Epoch 8/50\n",
            "505/505 [==============================] - 22s 44ms/step - loss: 1.8117 - accuracy: 0.2505 - val_loss: 1.8149 - val_accuracy: 0.2505\n",
            "Epoch 9/50\n",
            "505/505 [==============================] - 24s 47ms/step - loss: 1.8115 - accuracy: 0.2505 - val_loss: 1.8108 - val_accuracy: 0.2505\n",
            "Epoch 10/50\n",
            "505/505 [==============================] - 22s 45ms/step - loss: 1.8116 - accuracy: 0.2505 - val_loss: 1.8116 - val_accuracy: 0.2505\n",
            "Epoch 11/50\n",
            "505/505 [==============================] - 23s 45ms/step - loss: 1.8113 - accuracy: 0.2505 - val_loss: 1.8116 - val_accuracy: 0.2505\n",
            "Epoch 12/50\n",
            "505/505 [==============================] - 23s 45ms/step - loss: 1.8113 - accuracy: 0.2505 - val_loss: 1.8109 - val_accuracy: 0.2505\n",
            "Epoch 13/50\n",
            "505/505 [==============================] - 23s 45ms/step - loss: 1.8113 - accuracy: 0.2505 - val_loss: 1.8112 - val_accuracy: 0.2505\n",
            "Epoch 14/50\n",
            "505/505 [==============================] - 22s 44ms/step - loss: 1.8114 - accuracy: 0.2505 - val_loss: 1.8109 - val_accuracy: 0.2505\n",
            "Epoch 15/50\n",
            "505/505 [==============================] - 22s 44ms/step - loss: 1.8112 - accuracy: 0.2505 - val_loss: 1.8113 - val_accuracy: 0.2505\n",
            "Epoch 16/50\n",
            "505/505 [==============================] - 22s 44ms/step - loss: 1.8113 - accuracy: 0.2505 - val_loss: 1.8108 - val_accuracy: 0.2505\n",
            "Epoch 17/50\n",
            "505/505 [==============================] - 22s 44ms/step - loss: 1.8115 - accuracy: 0.2505 - val_loss: 1.8111 - val_accuracy: 0.2505\n",
            "Epoch 18/50\n",
            "505/505 [==============================] - 22s 44ms/step - loss: 1.8116 - accuracy: 0.2505 - val_loss: 1.8107 - val_accuracy: 0.2505\n",
            "Epoch 19/50\n",
            "505/505 [==============================] - 23s 45ms/step - loss: 1.8111 - accuracy: 0.2505 - val_loss: 1.8111 - val_accuracy: 0.2505\n",
            "Epoch 20/50\n",
            "505/505 [==============================] - 22s 44ms/step - loss: 1.8114 - accuracy: 0.2505 - val_loss: 1.8111 - val_accuracy: 0.2505\n",
            "Epoch 21/50\n",
            "505/505 [==============================] - 23s 45ms/step - loss: 1.8111 - accuracy: 0.2505 - val_loss: 1.8123 - val_accuracy: 0.2505\n",
            "Epoch 22/50\n",
            "505/505 [==============================] - 23s 45ms/step - loss: 1.8113 - accuracy: 0.2505 - val_loss: 1.8113 - val_accuracy: 0.2505\n",
            "Epoch 23/50\n",
            "505/505 [==============================] - 23s 46ms/step - loss: 1.8114 - accuracy: 0.2505 - val_loss: 1.8106 - val_accuracy: 0.2505\n",
            "Epoch 24/50\n",
            "505/505 [==============================] - 23s 45ms/step - loss: 1.8113 - accuracy: 0.2505 - val_loss: 1.8107 - val_accuracy: 0.2505\n",
            "Epoch 25/50\n",
            "505/505 [==============================] - 23s 45ms/step - loss: 1.8113 - accuracy: 0.2505 - val_loss: 1.8108 - val_accuracy: 0.2505\n",
            "Epoch 26/50\n",
            "505/505 [==============================] - 22s 44ms/step - loss: 1.8115 - accuracy: 0.2505 - val_loss: 1.8109 - val_accuracy: 0.2505\n",
            "Epoch 27/50\n",
            "505/505 [==============================] - 22s 44ms/step - loss: 1.8112 - accuracy: 0.2505 - val_loss: 1.8109 - val_accuracy: 0.2505\n",
            "Epoch 28/50\n",
            "505/505 [==============================] - 22s 44ms/step - loss: 1.8115 - accuracy: 0.2505 - val_loss: 1.8107 - val_accuracy: 0.2505\n",
            "Epoch 29/50\n",
            "505/505 [==============================] - 22s 44ms/step - loss: 1.8110 - accuracy: 0.2505 - val_loss: 1.8111 - val_accuracy: 0.2505\n",
            "Epoch 30/50\n",
            "505/505 [==============================] - 22s 44ms/step - loss: 1.8112 - accuracy: 0.2505 - val_loss: 1.8115 - val_accuracy: 0.2505\n",
            "Epoch 31/50\n",
            "505/505 [==============================] - 22s 44ms/step - loss: 1.8113 - accuracy: 0.2505 - val_loss: 1.8112 - val_accuracy: 0.2505\n",
            "Epoch 32/50\n",
            "505/505 [==============================] - 22s 44ms/step - loss: 1.8111 - accuracy: 0.2505 - val_loss: 1.8113 - val_accuracy: 0.2505\n",
            "Epoch 33/50\n",
            "505/505 [==============================] - 22s 44ms/step - loss: 1.8109 - accuracy: 0.2505 - val_loss: 1.8109 - val_accuracy: 0.2505\n",
            "Epoch 34/50\n",
            "505/505 [==============================] - 22s 44ms/step - loss: 1.8113 - accuracy: 0.2505 - val_loss: 1.8108 - val_accuracy: 0.2505\n",
            "Epoch 35/50\n",
            "505/505 [==============================] - 22s 44ms/step - loss: 1.8110 - accuracy: 0.2505 - val_loss: 1.8115 - val_accuracy: 0.2505\n",
            "Epoch 36/50\n",
            "505/505 [==============================] - 22s 44ms/step - loss: 1.8111 - accuracy: 0.2505 - val_loss: 1.8111 - val_accuracy: 0.2505\n",
            "Epoch 37/50\n",
            "505/505 [==============================] - 23s 45ms/step - loss: 1.8110 - accuracy: 0.2505 - val_loss: 1.8115 - val_accuracy: 0.2505\n",
            "Epoch 38/50\n",
            "505/505 [==============================] - 23s 45ms/step - loss: 1.8110 - accuracy: 0.2505 - val_loss: 1.8108 - val_accuracy: 0.2505\n",
            "Epoch 39/50\n",
            "505/505 [==============================] - 23s 45ms/step - loss: 1.8109 - accuracy: 0.2505 - val_loss: 1.8107 - val_accuracy: 0.2505\n",
            "Epoch 40/50\n",
            "505/505 [==============================] - 22s 44ms/step - loss: 1.8114 - accuracy: 0.2505 - val_loss: 1.8107 - val_accuracy: 0.2505\n",
            "Epoch 41/50\n",
            "505/505 [==============================] - 22s 44ms/step - loss: 1.8109 - accuracy: 0.2505 - val_loss: 1.8109 - val_accuracy: 0.2505\n",
            "Epoch 42/50\n",
            "505/505 [==============================] - 23s 45ms/step - loss: 1.8107 - accuracy: 0.2505 - val_loss: 1.8107 - val_accuracy: 0.2505\n",
            "Epoch 43/50\n",
            "505/505 [==============================] - 22s 44ms/step - loss: 1.8110 - accuracy: 0.2505 - val_loss: 1.8108 - val_accuracy: 0.2505\n",
            "Epoch 44/50\n",
            "505/505 [==============================] - 22s 44ms/step - loss: 1.8111 - accuracy: 0.2505 - val_loss: 1.8107 - val_accuracy: 0.2505\n",
            "Epoch 45/50\n",
            "505/505 [==============================] - 22s 43ms/step - loss: 1.8111 - accuracy: 0.2505 - val_loss: 1.8108 - val_accuracy: 0.2505\n",
            "Epoch 46/50\n",
            "505/505 [==============================] - 23s 45ms/step - loss: 1.8111 - accuracy: 0.2505 - val_loss: 1.8107 - val_accuracy: 0.2505\n",
            "Epoch 47/50\n",
            "505/505 [==============================] - 23s 45ms/step - loss: 1.8109 - accuracy: 0.2505 - val_loss: 1.8109 - val_accuracy: 0.2505\n",
            "Epoch 48/50\n",
            "505/505 [==============================] - 22s 44ms/step - loss: 1.8111 - accuracy: 0.2505 - val_loss: 1.8107 - val_accuracy: 0.2505\n",
            "Epoch 49/50\n",
            "505/505 [==============================] - 23s 45ms/step - loss: 1.8110 - accuracy: 0.2505 - val_loss: 1.8108 - val_accuracy: 0.2505\n",
            "Epoch 50/50\n",
            "505/505 [==============================] - 22s 44ms/step - loss: 1.8112 - accuracy: 0.2505 - val_loss: 1.8109 - val_accuracy: 0.2505\n"
          ]
        }
      ]
    },
    {
      "cell_type": "code",
      "source": [
        "import seaborn as sns\n",
        "\n",
        "history = H\n",
        "\n",
        "sns.set()\n",
        "fig = plt.figure(2, (8, 8))\n",
        "\n",
        "ax = plt.subplot(2, 1, 1)\n",
        "sns.lineplot(x=history.epoch, y=history.history['accuracy'], label='train')\n",
        "sns.lineplot(x=history.epoch, y=history.history['val_accuracy'], label='valid')\n",
        "plt.title('Accuracy')\n",
        "plt.xlabel('Epoch #')\n",
        "plt.ylabel('percent')\n",
        "plt.tight_layout()\n",
        "\n",
        "ax = plt.subplot(2, 1, 2)\n",
        "sns.lineplot(x=history.epoch, y=history.history['loss'], label='train')\n",
        "sns.lineplot(x=history.epoch, y=history.history['val_loss'], label='valid')\n",
        "plt.title('Loss')\n",
        "plt.xlabel('Epoch #')\n",
        "plt.ylabel('loss')\n",
        "plt.tight_layout()\n",
        "plt.show()"
      ],
      "metadata": {
        "colab": {
          "base_uri": "https://localhost:8080/"
        },
        "id": "e9fZ1u0im4Uz",
        "outputId": "d4b4ca29-fbd8-4de3-f630-2ac8b81e1127"
      },
      "execution_count": null,
      "outputs": [
        {
          "output_type": "display_data",
          "data": {
            "text/plain": [
              "<Figure size 576x576 with 2 Axes>"
            ],
            "image/png": "[encoded data removed]"
          },
          "metadata": {}
        }
      ]
    },
    {
      "cell_type": "code",
      "source": [
        "# baseModel = \n",
        "# for layer in baseModel.layers:\n",
        "# \tlayer.trainable = False\n",
        "# headModel = baseModel.output\n",
        "# headModel = Flatten(name=\"flatten\")(headModel)\n",
        "# headModel = Dense(512, activation=\"relu\")(headModel)\n",
        "# headModel = Dropout(0.5)(headModel)\n",
        "# headModel = Dense(len(config.CLASSES), activation=\"softmax\")(headModel)\n",
        "# model = Model(inputs=baseModel.input, outputs=headModel)\n",
        "# model.compile(loss=\"categorical_crossentropy\", optimizer=optimizers.Adam(0.001),\n",
        "# \tmetrics=[\"accuracy\"])"
      ],
      "metadata": {
        "id": "zXZdW8gtaJSr"
      },
      "execution_count": null,
      "outputs": []
    },
    {
      "cell_type": "code",
      "source": [
        "# net = Sequential(name='VGG16')\n",
        "# conv_base = VGG16(include_top=False,\n",
        "#                       weights='imagenet',\n",
        "#                       input_shape=(224, 224, 3))\n",
        "# for layer in conv_base.layers[:-2]:\n",
        "#     layer.trainable = False\n",
        "# net.add(conv_base)\n",
        "# net.add(GlobalAveragePooling2D())\n",
        "\n",
        "# net.add(\n",
        "#         Conv2D(\n",
        "#             filters=64,\n",
        "#             kernel_size=(5,5),\n",
        "#             input_shape=(img_width, img_height, img_depth),\n",
        "#             activation='elu',\n",
        "#             padding='same',\n",
        "#             kernel_initializer='he_normal',\n",
        "#             name='conv2d_1'\n",
        "#         )\n",
        "#     )\n",
        "# net.add(BatchNormalization(name='batchnorm_1'))\n",
        "# net.add(\n",
        "#         Conv2D(\n",
        "#             filters=64,\n",
        "#             kernel_size=(5,5),\n",
        "#             activation='elu',\n",
        "#             padding='same',\n",
        "#             kernel_initializer='he_normal',\n",
        "#             name='conv2d_2'\n",
        "#         )\n",
        "#     )\n",
        "# net.add(BatchNormalization(name='batchnorm_2'))\n",
        "    \n",
        "# net.add(MaxPooling2D(pool_size=(2,2), name='maxpool2d_1'))\n",
        "# net.add(Dropout(0.4, name='dropout_1'))\n",
        "\n",
        "# net.add(\n",
        "#         Conv2D(\n",
        "#             filters=128,\n",
        "#             kernel_size=(3,3),\n",
        "#             activation='elu',\n",
        "#             padding='same',\n",
        "#             kernel_initializer='he_normal',\n",
        "#             name='conv2d_3'\n",
        "#         )\n",
        "#     )\n",
        "# net.add(BatchNormalization(name='batchnorm_3'))\n",
        "# net.add(Conv2D(\n",
        "#             filters=128,\n",
        "#             kernel_size=(3,3),\n",
        "#             activation='elu',\n",
        "#             padding='same',\n",
        "#             kernel_initializer='he_normal',\n",
        "#             name='conv2d_4'\n",
        "#         )\n",
        "#     )\n",
        "# net.add(BatchNormalization(name='batchnorm_4'))\n",
        "    \n",
        "# net.add(MaxPooling2D(pool_size=(2,2), name='maxpool2d_2'))\n",
        "# net.add(Dropout(0.4, name='dropout_2'))\n",
        "\n",
        "# net.add(\n",
        "#         Conv2D(\n",
        "#             filters=256,\n",
        "#             kernel_size=(3,3),\n",
        "#             activation='elu',\n",
        "#             padding='same',\n",
        "#             kernel_initializer='he_normal',\n",
        "#             name='conv2d_5'\n",
        "#         )\n",
        "#     )\n",
        "# net.add(BatchNormalization(name='batchnorm_5'))\n",
        "# net.add(\n",
        "#         Conv2D(\n",
        "#             filters=256,\n",
        "#             kernel_size=(3,3),\n",
        "#             activation='elu',\n",
        "#             padding='same',\n",
        "#             kernel_initializer='he_normal',\n",
        "#             name='conv2d_6'\n",
        "#         )\n",
        "#     )\n",
        "# net.add(BatchNormalization(name='batchnorm_6'))\n",
        "    \n",
        "# net.add(Dropout(0.5, name='dropout_3'))\n",
        "# net.add(MaxPooling2D(pool_size=(2,2), name='maxpool2d_3'))\n",
        "\n",
        "# net.add(Flatten(name='flatten'))\n",
        "        \n",
        "# net.add(\n",
        "#         Dense(\n",
        "#             128,\n",
        "#             activation='elu',\n",
        "#             kernel_initializer='he_normal',\n",
        "#             name='dense_1'\n",
        "#         )\n",
        "#     )\n",
        "# net.add(BatchNormalization(name='batchnorm_7'))\n",
        "    \n",
        "# net.add(Dropout(0.6, name='dropout_4'))\n",
        "    \n",
        "# net.add(\n",
        "#         Dense(\n",
        "#             num_classes,\n",
        "#             activation='softmax',\n",
        "#             name='out_layer'\n",
        "#         )\n",
        "#     )\n",
        "    \n",
        "# net.compile(\n",
        "#         loss='categorical_crossentropy',\n",
        "#         optimizer=optimizers.Adam(0.001),\n",
        "#         metrics=['accuracy']\n",
        "#     )\n",
        "    \n",
        "# net.summary()\n"
      ],
      "metadata": {
        "id": "QHaiwbtaVK70",
        "colab": {
          "base_uri": "https://localhost:8080/",
          "height": 381
        },
        "outputId": "92d5f2a8-cf4e-4435-f568-e936f79aecbc"
      },
      "execution_count": null,
      "outputs": [
        {
          "output_type": "error",
          "ename": "ValueError",
          "evalue": "ignored",
          "traceback": [
            "\u001b[0;31m---------------------------------------------------------------------------\u001b[0m",
            "\u001b[0;31mValueError\u001b[0m                                Traceback (most recent call last)",
            "\u001b[0;32m<ipython-input-29-2c0f684ecd6d>\u001b[0m in \u001b[0;36m<module>\u001b[0;34m()\u001b[0m\n\u001b[1;32m     16\u001b[0m             \u001b[0mpadding\u001b[0m\u001b[0;34m=\u001b[0m\u001b[0;34m'same'\u001b[0m\u001b[0;34m,\u001b[0m\u001b[0;34m\u001b[0m\u001b[0;34m\u001b[0m\u001b[0m\n\u001b[1;32m     17\u001b[0m             \u001b[0mkernel_initializer\u001b[0m\u001b[0;34m=\u001b[0m\u001b[0;34m'he_normal'\u001b[0m\u001b[0;34m,\u001b[0m\u001b[0;34m\u001b[0m\u001b[0;34m\u001b[0m\u001b[0m\n\u001b[0;32m---> 18\u001b[0;31m             \u001b[0mname\u001b[0m\u001b[0;34m=\u001b[0m\u001b[0;34m'conv2d_1'\u001b[0m\u001b[0;34m\u001b[0m\u001b[0;34m\u001b[0m\u001b[0m\n\u001b[0m\u001b[1;32m     19\u001b[0m         )\n\u001b[1;32m     20\u001b[0m     )\n",
            "\u001b[0;32m/usr/local/lib/python3.7/dist-packages/tensorflow/python/training/tracking/base.py\u001b[0m in \u001b[0;36m_method_wrapper\u001b[0;34m(self, *args, **kwargs)\u001b[0m\n\u001b[1;32m    627\u001b[0m     \u001b[0mself\u001b[0m\u001b[0;34m.\u001b[0m\u001b[0m_self_setattr_tracking\u001b[0m \u001b[0;34m=\u001b[0m \u001b[0;32mFalse\u001b[0m  \u001b[0;31m# pylint: disable=protected-access\u001b[0m\u001b[0;34m\u001b[0m\u001b[0;34m\u001b[0m\u001b[0m\n\u001b[1;32m    628\u001b[0m     \u001b[0;32mtry\u001b[0m\u001b[0;34m:\u001b[0m\u001b[0;34m\u001b[0m\u001b[0;34m\u001b[0m\u001b[0m\n\u001b[0;32m--> 629\u001b[0;31m       \u001b[0mresult\u001b[0m \u001b[0;34m=\u001b[0m \u001b[0mmethod\u001b[0m\u001b[0;34m(\u001b[0m\u001b[0mself\u001b[0m\u001b[0;34m,\u001b[0m \u001b[0;34m*\u001b[0m\u001b[0margs\u001b[0m\u001b[0;34m,\u001b[0m \u001b[0;34m**\u001b[0m\u001b[0mkwargs\u001b[0m\u001b[0;34m)\u001b[0m\u001b[0;34m\u001b[0m\u001b[0;34m\u001b[0m\u001b[0m\n\u001b[0m\u001b[1;32m    630\u001b[0m     \u001b[0;32mfinally\u001b[0m\u001b[0;34m:\u001b[0m\u001b[0;34m\u001b[0m\u001b[0;34m\u001b[0m\u001b[0m\n\u001b[1;32m    631\u001b[0m       \u001b[0mself\u001b[0m\u001b[0;34m.\u001b[0m\u001b[0m_self_setattr_tracking\u001b[0m \u001b[0;34m=\u001b[0m \u001b[0mprevious_value\u001b[0m  \u001b[0;31m# pylint: disable=protected-access\u001b[0m\u001b[0;34m\u001b[0m\u001b[0;34m\u001b[0m\u001b[0m\n",
            "\u001b[0;32m/usr/local/lib/python3.7/dist-packages/keras/utils/traceback_utils.py\u001b[0m in \u001b[0;36merror_handler\u001b[0;34m(*args, **kwargs)\u001b[0m\n\u001b[1;32m     65\u001b[0m     \u001b[0;32mexcept\u001b[0m \u001b[0mException\u001b[0m \u001b[0;32mas\u001b[0m \u001b[0me\u001b[0m\u001b[0;34m:\u001b[0m  \u001b[0;31m# pylint: disable=broad-except\u001b[0m\u001b[0;34m\u001b[0m\u001b[0;34m\u001b[0m\u001b[0m\n\u001b[1;32m     66\u001b[0m       \u001b[0mfiltered_tb\u001b[0m \u001b[0;34m=\u001b[0m \u001b[0m_process_traceback_frames\u001b[0m\u001b[0;34m(\u001b[0m\u001b[0me\u001b[0m\u001b[0;34m.\u001b[0m\u001b[0m__traceback__\u001b[0m\u001b[0;34m)\u001b[0m\u001b[0;34m\u001b[0m\u001b[0;34m\u001b[0m\u001b[0m\n\u001b[0;32m---> 67\u001b[0;31m       \u001b[0;32mraise\u001b[0m \u001b[0me\u001b[0m\u001b[0;34m.\u001b[0m\u001b[0mwith_traceback\u001b[0m\u001b[0;34m(\u001b[0m\u001b[0mfiltered_tb\u001b[0m\u001b[0;34m)\u001b[0m \u001b[0;32mfrom\u001b[0m \u001b[0;32mNone\u001b[0m\u001b[0;34m\u001b[0m\u001b[0;34m\u001b[0m\u001b[0m\n\u001b[0m\u001b[1;32m     68\u001b[0m     \u001b[0;32mfinally\u001b[0m\u001b[0;34m:\u001b[0m\u001b[0;34m\u001b[0m\u001b[0;34m\u001b[0m\u001b[0m\n\u001b[1;32m     69\u001b[0m       \u001b[0;32mdel\u001b[0m \u001b[0mfiltered_tb\u001b[0m\u001b[0;34m\u001b[0m\u001b[0;34m\u001b[0m\u001b[0m\n",
            "\u001b[0;32m/usr/local/lib/python3.7/dist-packages/keras/engine/input_spec.py\u001b[0m in \u001b[0;36massert_input_compatibility\u001b[0;34m(input_spec, inputs, layer_name)\u001b[0m\n\u001b[1;32m    226\u001b[0m       \u001b[0mndim\u001b[0m \u001b[0;34m=\u001b[0m \u001b[0mx\u001b[0m\u001b[0;34m.\u001b[0m\u001b[0mshape\u001b[0m\u001b[0;34m.\u001b[0m\u001b[0mrank\u001b[0m\u001b[0;34m\u001b[0m\u001b[0;34m\u001b[0m\u001b[0m\n\u001b[1;32m    227\u001b[0m       \u001b[0;32mif\u001b[0m \u001b[0mndim\u001b[0m \u001b[0;32mis\u001b[0m \u001b[0;32mnot\u001b[0m \u001b[0;32mNone\u001b[0m \u001b[0;32mand\u001b[0m \u001b[0mndim\u001b[0m \u001b[0;34m<\u001b[0m \u001b[0mspec\u001b[0m\u001b[0;34m.\u001b[0m\u001b[0mmin_ndim\u001b[0m\u001b[0;34m:\u001b[0m\u001b[0;34m\u001b[0m\u001b[0;34m\u001b[0m\u001b[0m\n\u001b[0;32m--> 228\u001b[0;31m         raise ValueError(f'Input {input_index} of layer \"{layer_name}\" '\n\u001b[0m\u001b[1;32m    229\u001b[0m                          \u001b[0;34m'is incompatible with the layer: '\u001b[0m\u001b[0;34m\u001b[0m\u001b[0;34m\u001b[0m\u001b[0m\n\u001b[1;32m    230\u001b[0m                          \u001b[0;34mf'expected min_ndim={spec.min_ndim}, '\u001b[0m\u001b[0;34m\u001b[0m\u001b[0;34m\u001b[0m\u001b[0m\n",
            "\u001b[0;31mValueError\u001b[0m: Input 0 of layer \"conv2d_1\" is incompatible with the layer: expected min_ndim=4, found ndim=2. Full shape received: (None, 512)"
          ]
        }
      ]
    },
    {
      "cell_type": "code",
      "source": [
        "# parameters\n",
        "NUM_EPOCHS = 50\n",
        "BATCH_SIZE = 64\n",
        "LEARN_RATE = 0.001\n",
        "TEST_RATIO = 0.2\n",
        "SEED = 60\n",
        "NUM_CLASSES = 7"
      ],
      "metadata": {
        "id": "WmeQyxuwIyVH"
      },
      "execution_count": null,
      "outputs": []
    },
    {
      "cell_type": "code",
      "source": [
        "# img_array = df_images['Image2']\n",
        "# img_array = np.stack(img_array, axis=0)\n",
        "# img_array.shape\n",
        "\n",
        "# X_train, X_valid, y_train, y_valid = train_test_split(\n",
        "#     img_array, img_labels, \n",
        "#     test_size=TEST_RATIO, \n",
        "#     random_state=SEED\n",
        "# )"
      ],
      "metadata": {
        "id": "7TX1xm6dIz_G"
      },
      "execution_count": null,
      "outputs": []
    },
    {
      "cell_type": "code",
      "source": [
        "# augment images using image data generator\n",
        "aug = ImageDataGenerator(rotation_range=0.2,\n",
        "                         shear_range=0.15)\n",
        "\n",
        "model = build_advanced_net()\n",
        "model.summary()\n",
        "optimizer = Adam(learning_rate=LEARN_RATE)\n",
        "model.compile(loss='categorical_crossentropy',\n",
        "              optimizer=optimizer,\n",
        "              metrics=['accuracy'])\n",
        "print('[INFO] model compiled.')"
      ],
      "metadata": {
        "colab": {
          "base_uri": "https://localhost:8080/"
        },
        "id": "D5nD5wOII2X8",
        "outputId": "e5c025c1-a646-4468-cf10-6651c5776b5e"
      },
      "execution_count": null,
      "outputs": [
        {
          "output_type": "stream",
          "name": "stdout",
          "text": [
            "Model: \"sequential_3\"\n",
            "_________________________________________________________________\n",
            " Layer (type)                Output Shape              Param #   \n",
            "=================================================================\n",
            " vgg16 (Functional)          (None, 7, 7, 512)         14714688  \n",
            "                                                                 \n",
            " global_average_pooling2d_3   (None, 512)              0         \n",
            " (GlobalAveragePooling2D)                                        \n",
            "                                                                 \n",
            " dense_18 (Dense)            (None, 512)               262656    \n",
            "                                                                 \n",
            " dense_19 (Dense)            (None, 256)               131328    \n",
            "                                                                 \n",
            " dropout_3 (Dropout)         (None, 256)               0         \n",
            "                                                                 \n",
            " dense_20 (Dense)            (None, 64)                16448     \n",
            "                                                                 \n",
            " batch_normalization_3 (Batc  (None, 64)               256       \n",
            " hNormalization)                                                 \n",
            "                                                                 \n",
            " dense_21 (Dense)            (None, 32)                2080      \n",
            "                                                                 \n",
            " dense_22 (Dense)            (None, 16)                528       \n",
            "                                                                 \n",
            " dense_23 (Dense)            (None, 7)                 119       \n",
            "                                                                 \n",
            "=================================================================\n",
            "Total params: 15,128,103\n",
            "Trainable params: 2,773,095\n",
            "Non-trainable params: 12,355,008\n",
            "_________________________________________________________________\n",
            "[INFO] model compiled.\n"
          ]
        }
      ]
    },
    {
      "cell_type": "code",
      "source": [
        "# train model\n",
        "ES = EarlyStopping(monitor='val_loss',\n",
        "                   patience=2)\n",
        "MC = ModelCheckpoint(MODEL_DIR + '/model_e_{epoch:02d}.hdf5',\n",
        "                     save_best_only=True,\n",
        "                     save_weights_only=True)\n",
        "print('[INFO] starting training...')\n",
        "\n",
        "H = model.fit(aug.flow(X_train, y_train, batch_size=BATCH_SIZE),\n",
        "              epochs=NUM_EPOCHS,\n",
        "              validation_data=aug.flow(X_valid, y_valid, batch_size=BATCH_SIZE),\n",
        "              callbacks=[ES, MC],\n",
        "              verbose=1)\n",
        "print('[INFO] model trained.')"
      ],
      "metadata": {
        "colab": {
          "base_uri": "https://localhost:8080/"
        },
        "id": "bHnsMBPWI5td",
        "outputId": "6cfef25a-e0a1-49ea-f044-8e3051170d64"
      },
      "execution_count": null,
      "outputs": [
        {
          "output_type": "stream",
          "name": "stdout",
          "text": [
            "[INFO] starting training...\n",
            "Epoch 1/50\n",
            "505/505 [==============================] - 26s 50ms/step - loss: 1.6393 - accuracy: 0.3570 - val_loss: 1.5417 - val_accuracy: 0.3976\n",
            "Epoch 2/50\n",
            "505/505 [==============================] - 25s 50ms/step - loss: 1.4712 - accuracy: 0.4348 - val_loss: 1.4373 - val_accuracy: 0.4508\n",
            "Epoch 3/50\n",
            "505/505 [==============================] - 24s 48ms/step - loss: 1.3894 - accuracy: 0.4679 - val_loss: 1.4448 - val_accuracy: 0.4394\n",
            "Epoch 4/50\n",
            "505/505 [==============================] - 25s 49ms/step - loss: 1.3249 - accuracy: 0.4977 - val_loss: 1.3662 - val_accuracy: 0.4714\n",
            "Epoch 5/50\n",
            "505/505 [==============================] - 24s 48ms/step - loss: 1.2708 - accuracy: 0.5243 - val_loss: 1.3880 - val_accuracy: 0.4712\n",
            "Epoch 6/50\n",
            "505/505 [==============================] - 25s 49ms/step - loss: 1.2292 - accuracy: 0.5406 - val_loss: 1.3496 - val_accuracy: 0.4907\n",
            "Epoch 7/50\n",
            "505/505 [==============================] - 24s 48ms/step - loss: 1.1821 - accuracy: 0.5612 - val_loss: 1.3826 - val_accuracy: 0.4893\n",
            "Epoch 8/50\n",
            "505/505 [==============================] - 25s 49ms/step - loss: 1.1241 - accuracy: 0.5859 - val_loss: 1.3484 - val_accuracy: 0.5060\n",
            "Epoch 9/50\n",
            "505/505 [==============================] - 24s 48ms/step - loss: 1.0911 - accuracy: 0.5991 - val_loss: 1.3546 - val_accuracy: 0.5157\n",
            "Epoch 10/50\n",
            "505/505 [==============================] - 24s 48ms/step - loss: 1.0389 - accuracy: 0.6194 - val_loss: 1.3990 - val_accuracy: 0.5007\n",
            "[INFO] model trained.\n"
          ]
        }
      ]
    },
    {
      "cell_type": "code",
      "source": [
        "import seaborn as sns\n",
        "\n",
        "history = H\n",
        "\n",
        "sns.set()\n",
        "fig = plt.figure(2, (8, 8))\n",
        "\n",
        "ax = plt.subplot(2, 1, 1)\n",
        "sns.lineplot(x=history.epoch, y=history.history['accuracy'], label='train')\n",
        "sns.lineplot(x=history.epoch, y=history.history['val_accuracy'], label='valid')\n",
        "plt.title('Accuracy')\n",
        "plt.xlabel('Epoch #')\n",
        "plt.ylabel('percent')\n",
        "plt.tight_layout()\n",
        "\n",
        "ax = plt.subplot(2, 1, 2)\n",
        "sns.lineplot(x=history.epoch, y=history.history['loss'], label='train')\n",
        "sns.lineplot(x=history.epoch, y=history.history['val_loss'], label='valid')\n",
        "plt.title('Loss')\n",
        "plt.xlabel('Epoch #')\n",
        "plt.ylabel('loss')\n",
        "plt.tight_layout()\n",
        "plt.show()"
      ],
      "metadata": {
        "colab": {
          "base_uri": "https://localhost:8080/",
          "height": 581
        },
        "id": "pRV0Mc4lI8C_",
        "outputId": "839ba161-8fe0-4824-e998-ade2650355b8"
      },
      "execution_count": null,
      "outputs": [
        {
          "output_type": "display_data",
          "data": {
            "text/plain": [
              "<Figure size 576x576 with 2 Axes>"
            ],
            "image/png": "[encoded data removed]"
          },
          "metadata": {}
        }
      ]
    },
    {
      "cell_type": "markdown",
      "source": [
        "### Testing out with different videos"
      ],
      "metadata": {
        "id": "I1WDUAWIHEus"
      }
    },
    {
      "cell_type": "code",
      "source": [
        "!pip install face_recognition\n",
        "\n",
        "import os\n",
        "import sys\n",
        "import shutil\n",
        "import re\n",
        "import pickle\n",
        "\n",
        "import pandas as pd\n",
        "import matplotlib.pyplot as plt\n",
        "import seaborn as sns\n",
        "\n",
        "import cv2\n",
        "\n",
        "import face_recognition\n",
        "\n",
        "\n",
        "video_filepath = '/content/drive/MyDrive/ml-project/goodbye toby.mp4'"
      ],
      "metadata": {
        "colab": {
          "base_uri": "https://localhost:8080/"
        },
        "id": "k8pjbsg6HZT0",
        "outputId": "24a5c83b-f559-40e8-b49e-bf62cd689a10"
      },
      "execution_count": null,
      "outputs": [
        {
          "output_type": "stream",
          "name": "stdout",
          "text": [
            "Collecting face_recognition\n",
            "  Downloading face_recognition-1.3.0-py2.py3-none-any.whl (15 kB)\n",
            "Requirement already satisfied: numpy in /usr/local/lib/python3.7/dist-packages (from face_recognition) (1.21.6)\n",
            "Collecting face-recognition-models>=0.3.0\n",
            "  Downloading face_recognition_models-0.3.0.tar.gz (100.1 MB)\n",
            "\u001b[K     |████████████████████████████████| 100.1 MB 37 kB/s \n",
            "\u001b[?25hRequirement already satisfied: Pillow in /usr/local/lib/python3.7/dist-packages (from face_recognition) (7.1.2)\n",
            "Requirement already satisfied: Click>=6.0 in /usr/local/lib/python3.7/dist-packages (from face_recognition) (7.1.2)\n",
            "Requirement already satisfied: dlib>=19.7 in /usr/local/lib/python3.7/dist-packages (from face_recognition) (19.18.0)\n",
            "Building wheels for collected packages: face-recognition-models\n",
            "  Building wheel for face-recognition-models (setup.py) ... \u001b[?25l\u001b[?25hdone\n",
            "  Created wheel for face-recognition-models: filename=face_recognition_models-0.3.0-py2.py3-none-any.whl size=100566186 sha256=1aa8ffcbdb451815550df9e7bba7a2315b1badbe586f392474bf996b9b52bf7e\n",
            "  Stored in directory: /root/.cache/pip/wheels/d6/81/3c/884bcd5e1c120ff548d57c2ecc9ebf3281c9a6f7c0e7e7947a\n",
            "Successfully built face-recognition-models\n",
            "Installing collected packages: face-recognition-models, face-recognition\n",
            "Successfully installed face-recognition-1.3.0 face-recognition-models-0.3.0\n"
          ]
        }
      ]
    },
    {
      "cell_type": "markdown",
      "source": [
        "Change here for the frame"
      ],
      "metadata": {
        "id": "L8DVeEAAJe7o"
      }
    },
    {
      "cell_type": "code",
      "source": [
        "selected_frame = 2"
      ],
      "metadata": {
        "id": "szdnTGt6JeH9"
      },
      "execution_count": null,
      "outputs": []
    },
    {
      "cell_type": "code",
      "source": [
        "frames_req = 5\n",
        "\n",
        "all_video_faces = []\n",
        "\n",
        "from dlib import get_frontal_face_detector\n",
        "import time\n",
        "\n",
        "hog_face_detector = get_frontal_face_detector()\n",
        "\n",
        "def hog_detect_face(image, hog_face_detector, display = True):\n",
        "    '''\n",
        "    This function performs face(s) detection on an image using dlib hog face detector.\n",
        "    Args:\n",
        "        image:             The input image of the person(s) whose face needs to be detected.\n",
        "        hog_face_detector: The hog face detection model required to perform the detection on the input image.\n",
        "        display:           A boolean value that is if set to true the function displays the original input image, \n",
        "                           and the output image with the bounding boxes drawn and time taken written and returns nothing.\n",
        "    Returns:\n",
        "        output_image: A copy of input image with the bounding boxes drawn.\n",
        "        results:      The output of the face detection process on the input image.\n",
        "    '''\n",
        "    # Get the height and width of the input image.\n",
        "    height, width, _ = image.shape\n",
        "    # Create a copy of the input image to draw bounding boxes on.\n",
        "    output_image = image.copy()\n",
        "    # Convert the image from BGR into RGB format.\n",
        "    imgRGB = cv2.cvtColor(image, cv2.COLOR_RGBA2GRAY)\n",
        "    # Perform the face detection on the image.\n",
        "    results = hog_face_detector(imgRGB, 0)\n",
        "\n",
        "    faces = []\n",
        "\n",
        "    # Loop through the bounding boxes of each face detected in the image.\n",
        "    for bbox in results:    \n",
        "        # Retrieve the left most x-coordinate of the bounding box.\n",
        "        x1 = bbox.left()\n",
        "        # Retrieve the top most y-coordinate of the bounding box.\n",
        "        y1 = bbox.top()\n",
        "        # Retrieve the right most x-coordinate of the bounding box.\n",
        "        x2 = bbox.right()\n",
        "        # Retrieve the bottom most y-coordinate of the bounding box.       \n",
        "        y2 = bbox.bottom()\n",
        "\n",
        "        cimg = imgRGB[y1:y2, x1:x2]\n",
        "        try:\n",
        "            cimg_resized = cv2.resize(cimg, (48, 48))\n",
        "            cimg = cimg_resized\n",
        "            faces.append(cimg)\n",
        "            # Draw a rectangle around a face on the copy of the image using the retrieved coordinates.\n",
        "            cv2.rectangle(output_image, pt1=(x1, y1), pt2=(x2, y2), color=(0, 255, 0), thickness=width//200)\n",
        "        except:\n",
        "            print(\"could not resize image!\")\n",
        "    \n",
        "    \n",
        "    # Check if the original input image and the output image are specified to be displayed.\n",
        "    if display:\n",
        "        # Display the original input image and the output image.\n",
        "        plt.figure(figsize=[15,15])\n",
        "        plt.subplot(121);plt.imshow(image[:,:,::-1]);plt.title(\"Original Image\");plt.axis('off');\n",
        "        plt.subplot(122);plt.imshow(output_image[:,:,::-1]);plt.title(\"Output\");plt.axis('off');\n",
        "        \n",
        "    # Otherwise\n",
        "    else:\n",
        "        # Return the output image and results of face detection.\n",
        "        return faces\n",
        "\n",
        "def get_frame(sec, vid_cap, count, output_directory, filename, output_ext):\n",
        "    # since we are only selecting the middle frame now\n",
        "    if count != selected_frame:\n",
        "      return True\n",
        "    vid_cap.set(cv2.CAP_PROP_POS_MSEC, sec*1000)\n",
        "    has_frames, image = vid_cap.read()\n",
        "\n",
        "    if has_frames:\n",
        "        # TODO - we need to get all faces from the frame and write that\n",
        "        faces = hog_detect_face(image, hog_face_detector, display=False)\n",
        "        if faces is not None and len(faces) != 0:\n",
        "            num_faces = len(faces)\n",
        "            face_count = 1\n",
        "            for face in faces:\n",
        "                all_video_faces.append(face)\n",
        "    return has_frames\n",
        "\n",
        "def convert_video_to_frames(video_file, output_directory, output_ext=\"jpg\"):\n",
        "    all_video_faces = []\n",
        "\n",
        "    \"\"\"Converts video to multiple frames using OpenCV library\"\"\"\n",
        "    filename, ext = os.path.splitext(video_file)\n",
        "    vid_cap = cv2.VideoCapture(video_file)\n",
        "    \n",
        "    frame_count = int(vid_cap.get(cv2.CAP_PROP_FRAME_COUNT))\n",
        "    fps = vid_cap.get(cv2.CAP_PROP_FPS) \n",
        "    filename = filename.split('/')[-1]\n",
        "    \n",
        "    if fps == 0 or frame_count == 0:\n",
        "        print(\"No frames in {}. Skipping!\".format(filename))\n",
        "        return\n",
        "    \n",
        "    sec = 0\n",
        "    frame_rate = frame_count / (frames_req * fps)\n",
        "    count = 1\n",
        "    \n",
        "    # print(\"Getting frames for {}\".format(filename))\n",
        "    success = get_frame(sec, vid_cap, count, output_directory, filename, output_ext)\n",
        "    \n",
        "    while success:\n",
        "        count = count + 1\n",
        "        sec = sec + frame_rate\n",
        "        sec = round(sec, 2)\n",
        "        \n",
        "        if count > frames_req:\n",
        "            break\n",
        "        \n",
        "        success = get_frame(sec, vid_cap, count, output_directory, filename, output_ext)\n",
        "\n",
        "convert_video_to_frames(video_filepath, '')\n",
        "print(\"Number of faces: \", len(all_video_faces))"
      ],
      "metadata": {
        "colab": {
          "base_uri": "https://localhost:8080/"
        },
        "id": "dgrO09pJHD4P",
        "outputId": "2a3a68de-0636-48bb-e346-b961453613af"
      },
      "execution_count": null,
      "outputs": [
        {
          "output_type": "stream",
          "name": "stdout",
          "text": [
            "Number of faces:  1\n"
          ]
        }
      ]
    },
    {
      "cell_type": "code",
      "source": [
        "for face in all_video_faces:\n",
        "    plt.imshow(face)"
      ],
      "metadata": {
        "colab": {
          "base_uri": "https://localhost:8080/",
          "height": 270
        },
        "id": "BvCBiqxDHKx3",
        "outputId": "7070d28e-5252-4ae8-8571-1d5ad7e5abb0"
      },
      "execution_count": null,
      "outputs": [
        {
          "output_type": "display_data",
          "data": {
            "text/plain": [
              "<Figure size 432x288 with 1 Axes>"
            ],
            "image/png": "[encoded data removed]"
          },
          "metadata": {}
        }
      ]
    },
    {
      "cell_type": "code",
      "source": [
        "test_img_array = [np.array(face).reshape(48, 48, 1) for face in all_video_faces] \n",
        "test_img_array = [cv2.merge((img, img, img)) for img in test_img_array]\n",
        "test_img_array = np.stack(test_img_array, axis=0)\n",
        "test_img_array.shape # (21264, 48, 48, 1)\n",
        "\n",
        "test_img_array = test_img_array / 255.\n",
        "\n",
        "test_hyp = model.predict(test_img_array)\n",
        "test_hyp"
      ],
      "metadata": {
        "colab": {
          "base_uri": "https://localhost:8080/"
        },
        "id": "TqCWddnLHLNP",
        "outputId": "8d9f29dc-381a-4db4-c9c2-66dc48b6eeb6"
      },
      "execution_count": null,
      "outputs": [
        {
          "output_type": "execute_result",
          "data": {
            "text/plain": [
              "array([[0.26917496, 0.01420634, 0.0882017 , 0.5218336 , 0.08380373,\n",
              "        0.00494841, 0.0178312 ]], dtype=float32)"
            ]
          },
          "metadata": {},
          "execution_count": 153
        }
      ]
    },
    {
      "cell_type": "code",
      "source": [
        "print(\"The image is describing: {}\".format(labels_to_emotion[np.argmax(test_hyp)]))"
      ],
      "metadata": {
        "colab": {
          "base_uri": "https://localhost:8080/"
        },
        "id": "rLUBoXMUHfDt",
        "outputId": "6b2004e0-ab29-4146-9f65-92ea3c813a79"
      },
      "execution_count": null,
      "outputs": [
        {
          "output_type": "stream",
          "name": "stdout",
          "text": [
            "The image is describing: happy\n"
          ]
        }
      ]
    }
  ]
}