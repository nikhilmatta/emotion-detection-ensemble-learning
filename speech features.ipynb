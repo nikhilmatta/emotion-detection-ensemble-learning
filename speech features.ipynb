{
 "cells": [
  {
   "cell_type": "code",
   "execution_count": 1,
   "id": "5de08b23-1ade-4c44-b6d5-ead85c86ec09",
   "metadata": {},
   "outputs": [],
   "source": [
    "import pandas as pd"
   ]
  },
  {
   "cell_type": "code",
   "execution_count": 5,
   "id": "165fa3e6-5db6-4c1e-8dc0-65e5556525d8",
   "metadata": {
    "scrolled": true
   },
   "outputs": [
    {
     "data": {
      "text/html": [
       "<div>\n",
       "<style scoped>\n",
       "    .dataframe tbody tr th:only-of-type {\n",
       "        vertical-align: middle;\n",
       "    }\n",
       "\n",
       "    .dataframe tbody tr th {\n",
       "        vertical-align: top;\n",
       "    }\n",
       "\n",
       "    .dataframe thead th {\n",
       "        text-align: right;\n",
       "    }\n",
       "</style>\n",
       "<table border=\"1\" class=\"dataframe\">\n",
       "  <thead>\n",
       "    <tr style=\"text-align: right;\">\n",
       "      <th></th>\n",
       "      <th>Sr No.</th>\n",
       "      <th>Utterance</th>\n",
       "      <th>Speaker</th>\n",
       "      <th>Emotion</th>\n",
       "      <th>Sentiment</th>\n",
       "      <th>Dialogue_ID</th>\n",
       "      <th>Utterance_ID</th>\n",
       "      <th>Season</th>\n",
       "      <th>Episode</th>\n",
       "      <th>StartTime</th>\n",
       "      <th>EndTime</th>\n",
       "    </tr>\n",
       "  </thead>\n",
       "  <tbody>\n",
       "    <tr>\n",
       "      <th>0</th>\n",
       "      <td>1</td>\n",
       "      <td>also I was the point person on my companys tr...</td>\n",
       "      <td>Chandler</td>\n",
       "      <td>neutral</td>\n",
       "      <td>neutral</td>\n",
       "      <td>0</td>\n",
       "      <td>0</td>\n",
       "      <td>8</td>\n",
       "      <td>21</td>\n",
       "      <td>00:16:16,059</td>\n",
       "      <td>00:16:21,731</td>\n",
       "    </tr>\n",
       "    <tr>\n",
       "      <th>1</th>\n",
       "      <td>2</td>\n",
       "      <td>You mustve had your hands full.</td>\n",
       "      <td>The Interviewer</td>\n",
       "      <td>neutral</td>\n",
       "      <td>neutral</td>\n",
       "      <td>0</td>\n",
       "      <td>1</td>\n",
       "      <td>8</td>\n",
       "      <td>21</td>\n",
       "      <td>00:16:21,940</td>\n",
       "      <td>00:16:23,442</td>\n",
       "    </tr>\n",
       "    <tr>\n",
       "      <th>2</th>\n",
       "      <td>3</td>\n",
       "      <td>That I did. That I did.</td>\n",
       "      <td>Chandler</td>\n",
       "      <td>neutral</td>\n",
       "      <td>neutral</td>\n",
       "      <td>0</td>\n",
       "      <td>2</td>\n",
       "      <td>8</td>\n",
       "      <td>21</td>\n",
       "      <td>00:16:23,442</td>\n",
       "      <td>00:16:26,389</td>\n",
       "    </tr>\n",
       "    <tr>\n",
       "      <th>3</th>\n",
       "      <td>4</td>\n",
       "      <td>So lets talk a little bit about your duties.</td>\n",
       "      <td>The Interviewer</td>\n",
       "      <td>neutral</td>\n",
       "      <td>neutral</td>\n",
       "      <td>0</td>\n",
       "      <td>3</td>\n",
       "      <td>8</td>\n",
       "      <td>21</td>\n",
       "      <td>00:16:26,820</td>\n",
       "      <td>00:16:29,572</td>\n",
       "    </tr>\n",
       "    <tr>\n",
       "      <th>4</th>\n",
       "      <td>5</td>\n",
       "      <td>My duties?  All right.</td>\n",
       "      <td>Chandler</td>\n",
       "      <td>surprise</td>\n",
       "      <td>positive</td>\n",
       "      <td>0</td>\n",
       "      <td>4</td>\n",
       "      <td>8</td>\n",
       "      <td>21</td>\n",
       "      <td>00:16:34,452</td>\n",
       "      <td>00:16:40,917</td>\n",
       "    </tr>\n",
       "    <tr>\n",
       "      <th>...</th>\n",
       "      <td>...</td>\n",
       "      <td>...</td>\n",
       "      <td>...</td>\n",
       "      <td>...</td>\n",
       "      <td>...</td>\n",
       "      <td>...</td>\n",
       "      <td>...</td>\n",
       "      <td>...</td>\n",
       "      <td>...</td>\n",
       "      <td>...</td>\n",
       "      <td>...</td>\n",
       "    </tr>\n",
       "    <tr>\n",
       "      <th>9984</th>\n",
       "      <td>10474</td>\n",
       "      <td>You or me?</td>\n",
       "      <td>Chandler</td>\n",
       "      <td>neutral</td>\n",
       "      <td>neutral</td>\n",
       "      <td>1038</td>\n",
       "      <td>13</td>\n",
       "      <td>2</td>\n",
       "      <td>3</td>\n",
       "      <td>00:00:48,173</td>\n",
       "      <td>00:00:50,799</td>\n",
       "    </tr>\n",
       "    <tr>\n",
       "      <th>9985</th>\n",
       "      <td>10475</td>\n",
       "      <td>I got it. Uh, Joey, women don't have Adam's ap...</td>\n",
       "      <td>Ross</td>\n",
       "      <td>neutral</td>\n",
       "      <td>neutral</td>\n",
       "      <td>1038</td>\n",
       "      <td>14</td>\n",
       "      <td>2</td>\n",
       "      <td>3</td>\n",
       "      <td>00:00:51,009</td>\n",
       "      <td>00:00:53,594</td>\n",
       "    </tr>\n",
       "    <tr>\n",
       "      <th>9986</th>\n",
       "      <td>10476</td>\n",
       "      <td>You guys are messing with me, right?</td>\n",
       "      <td>Joey</td>\n",
       "      <td>surprise</td>\n",
       "      <td>positive</td>\n",
       "      <td>1038</td>\n",
       "      <td>15</td>\n",
       "      <td>2</td>\n",
       "      <td>3</td>\n",
       "      <td>00:01:00,518</td>\n",
       "      <td>00:01:03,520</td>\n",
       "    </tr>\n",
       "    <tr>\n",
       "      <th>9987</th>\n",
       "      <td>10477</td>\n",
       "      <td>Yeah.</td>\n",
       "      <td>All</td>\n",
       "      <td>neutral</td>\n",
       "      <td>neutral</td>\n",
       "      <td>1038</td>\n",
       "      <td>16</td>\n",
       "      <td>2</td>\n",
       "      <td>3</td>\n",
       "      <td>00:01:05,398</td>\n",
       "      <td>00:01:07,274</td>\n",
       "    </tr>\n",
       "    <tr>\n",
       "      <th>9988</th>\n",
       "      <td>10478</td>\n",
       "      <td>That was a good one. For a second there, I was...</td>\n",
       "      <td>Joey</td>\n",
       "      <td>joy</td>\n",
       "      <td>positive</td>\n",
       "      <td>1038</td>\n",
       "      <td>17</td>\n",
       "      <td>2</td>\n",
       "      <td>3</td>\n",
       "      <td>00:01:08,401</td>\n",
       "      <td>00:01:12,071</td>\n",
       "    </tr>\n",
       "  </tbody>\n",
       "</table>\n",
       "<p>9989 rows × 11 columns</p>\n",
       "</div>"
      ],
      "text/plain": [
       "      Sr No.                                          Utterance  \\\n",
       "0          1  also I was the point person on my companys tr...   \n",
       "1          2                   You mustve had your hands full.   \n",
       "2          3                            That I did. That I did.   \n",
       "3          4      So lets talk a little bit about your duties.   \n",
       "4          5                             My duties?  All right.   \n",
       "...      ...                                                ...   \n",
       "9984   10474                                         You or me?   \n",
       "9985   10475  I got it. Uh, Joey, women don't have Adam's ap...   \n",
       "9986   10476               You guys are messing with me, right?   \n",
       "9987   10477                                              Yeah.   \n",
       "9988   10478  That was a good one. For a second there, I was...   \n",
       "\n",
       "              Speaker   Emotion Sentiment  Dialogue_ID  Utterance_ID  Season  \\\n",
       "0            Chandler   neutral   neutral            0             0       8   \n",
       "1     The Interviewer   neutral   neutral            0             1       8   \n",
       "2            Chandler   neutral   neutral            0             2       8   \n",
       "3     The Interviewer   neutral   neutral            0             3       8   \n",
       "4            Chandler  surprise  positive            0             4       8   \n",
       "...               ...       ...       ...          ...           ...     ...   \n",
       "9984         Chandler   neutral   neutral         1038            13       2   \n",
       "9985             Ross   neutral   neutral         1038            14       2   \n",
       "9986             Joey  surprise  positive         1038            15       2   \n",
       "9987              All   neutral   neutral         1038            16       2   \n",
       "9988             Joey       joy  positive         1038            17       2   \n",
       "\n",
       "      Episode     StartTime       EndTime  \n",
       "0          21  00:16:16,059  00:16:21,731  \n",
       "1          21  00:16:21,940  00:16:23,442  \n",
       "2          21  00:16:23,442  00:16:26,389  \n",
       "3          21  00:16:26,820  00:16:29,572  \n",
       "4          21  00:16:34,452  00:16:40,917  \n",
       "...       ...           ...           ...  \n",
       "9984        3  00:00:48,173  00:00:50,799  \n",
       "9985        3  00:00:51,009  00:00:53,594  \n",
       "9986        3  00:01:00,518  00:01:03,520  \n",
       "9987        3  00:01:05,398  00:01:07,274  \n",
       "9988        3  00:01:08,401  00:01:12,071  \n",
       "\n",
       "[9989 rows x 11 columns]"
      ]
     },
     "execution_count": 5,
     "metadata": {},
     "output_type": "execute_result"
    }
   ],
   "source": [
    "df = pd.read_csv('MELD.Raw/train_sent_emo.csv')\n",
    "df"
   ]
  },
  {
   "cell_type": "code",
   "execution_count": 4,
   "id": "765136e5-71e2-45f8-90e8-3f169c4815c9",
   "metadata": {},
   "outputs": [
    {
     "data": {
      "text/plain": [
       "Sr No.          9989\n",
       "Utterance       9989\n",
       "Speaker         9989\n",
       "Emotion         9989\n",
       "Sentiment       9989\n",
       "Dialogue_ID     9989\n",
       "Utterance_ID    9989\n",
       "Season          9989\n",
       "Episode         9989\n",
       "StartTime       9989\n",
       "EndTime         9989\n",
       "dtype: int64"
      ]
     },
     "execution_count": 4,
     "metadata": {},
     "output_type": "execute_result"
    }
   ],
   "source": [
    "df.count()"
   ]
  },
  {
   "cell_type": "code",
   "execution_count": 6,
   "id": "1806b649-0ebf-4690-82be-f0ec4375339e",
   "metadata": {},
   "outputs": [
    {
     "data": {
      "text/html": [
       "<div>\n",
       "<style scoped>\n",
       "    .dataframe tbody tr th:only-of-type {\n",
       "        vertical-align: middle;\n",
       "    }\n",
       "\n",
       "    .dataframe tbody tr th {\n",
       "        vertical-align: top;\n",
       "    }\n",
       "\n",
       "    .dataframe thead th {\n",
       "        text-align: right;\n",
       "    }\n",
       "</style>\n",
       "<table border=\"1\" class=\"dataframe\">\n",
       "  <thead>\n",
       "    <tr style=\"text-align: right;\">\n",
       "      <th></th>\n",
       "      <th>Sr No.</th>\n",
       "      <th>Dialogue_ID</th>\n",
       "      <th>Utterance_ID</th>\n",
       "      <th>Season</th>\n",
       "      <th>Episode</th>\n",
       "    </tr>\n",
       "  </thead>\n",
       "  <tbody>\n",
       "    <tr>\n",
       "      <th>count</th>\n",
       "      <td>9989.000000</td>\n",
       "      <td>9989.000000</td>\n",
       "      <td>9989.00000</td>\n",
       "      <td>9989.000000</td>\n",
       "      <td>9989.000000</td>\n",
       "    </tr>\n",
       "    <tr>\n",
       "      <th>mean</th>\n",
       "      <td>5262.373511</td>\n",
       "      <td>526.549304</td>\n",
       "      <td>6.14516</td>\n",
       "      <td>4.853739</td>\n",
       "      <td>12.697467</td>\n",
       "    </tr>\n",
       "    <tr>\n",
       "      <th>std</th>\n",
       "      <td>3032.169169</td>\n",
       "      <td>302.464741</td>\n",
       "      <td>4.96027</td>\n",
       "      <td>2.389599</td>\n",
       "      <td>7.220051</td>\n",
       "    </tr>\n",
       "    <tr>\n",
       "      <th>min</th>\n",
       "      <td>1.000000</td>\n",
       "      <td>0.000000</td>\n",
       "      <td>0.00000</td>\n",
       "      <td>1.000000</td>\n",
       "      <td>1.000000</td>\n",
       "    </tr>\n",
       "    <tr>\n",
       "      <th>25%</th>\n",
       "      <td>2641.000000</td>\n",
       "      <td>261.000000</td>\n",
       "      <td>2.00000</td>\n",
       "      <td>3.000000</td>\n",
       "      <td>6.000000</td>\n",
       "    </tr>\n",
       "    <tr>\n",
       "      <th>50%</th>\n",
       "      <td>5267.000000</td>\n",
       "      <td>531.000000</td>\n",
       "      <td>5.00000</td>\n",
       "      <td>5.000000</td>\n",
       "      <td>12.000000</td>\n",
       "    </tr>\n",
       "    <tr>\n",
       "      <th>75%</th>\n",
       "      <td>7891.000000</td>\n",
       "      <td>795.000000</td>\n",
       "      <td>9.00000</td>\n",
       "      <td>7.000000</td>\n",
       "      <td>19.000000</td>\n",
       "    </tr>\n",
       "    <tr>\n",
       "      <th>max</th>\n",
       "      <td>10478.000000</td>\n",
       "      <td>1038.000000</td>\n",
       "      <td>23.00000</td>\n",
       "      <td>9.000000</td>\n",
       "      <td>25.000000</td>\n",
       "    </tr>\n",
       "  </tbody>\n",
       "</table>\n",
       "</div>"
      ],
      "text/plain": [
       "             Sr No.  Dialogue_ID  Utterance_ID       Season      Episode\n",
       "count   9989.000000  9989.000000    9989.00000  9989.000000  9989.000000\n",
       "mean    5262.373511   526.549304       6.14516     4.853739    12.697467\n",
       "std     3032.169169   302.464741       4.96027     2.389599     7.220051\n",
       "min        1.000000     0.000000       0.00000     1.000000     1.000000\n",
       "25%     2641.000000   261.000000       2.00000     3.000000     6.000000\n",
       "50%     5267.000000   531.000000       5.00000     5.000000    12.000000\n",
       "75%     7891.000000   795.000000       9.00000     7.000000    19.000000\n",
       "max    10478.000000  1038.000000      23.00000     9.000000    25.000000"
      ]
     },
     "execution_count": 6,
     "metadata": {},
     "output_type": "execute_result"
    }
   ],
   "source": [
    "df.describe()"
   ]
  },
  {
   "cell_type": "code",
   "execution_count": 7,
   "id": "50276c29-1f46-49ca-903d-5154aedc1c84",
   "metadata": {},
   "outputs": [
    {
     "name": "stdout",
     "output_type": "stream",
     "text": [
      "<class 'pandas.core.frame.DataFrame'>\n",
      "RangeIndex: 9989 entries, 0 to 9988\n",
      "Data columns (total 11 columns):\n",
      " #   Column        Non-Null Count  Dtype \n",
      "---  ------        --------------  ----- \n",
      " 0   Sr No.        9989 non-null   int64 \n",
      " 1   Utterance     9989 non-null   object\n",
      " 2   Speaker       9989 non-null   object\n",
      " 3   Emotion       9989 non-null   object\n",
      " 4   Sentiment     9989 non-null   object\n",
      " 5   Dialogue_ID   9989 non-null   int64 \n",
      " 6   Utterance_ID  9989 non-null   int64 \n",
      " 7   Season        9989 non-null   int64 \n",
      " 8   Episode       9989 non-null   int64 \n",
      " 9   StartTime     9989 non-null   object\n",
      " 10  EndTime       9989 non-null   object\n",
      "dtypes: int64(5), object(6)\n",
      "memory usage: 858.6+ KB\n"
     ]
    }
   ],
   "source": [
    "df.info()"
   ]
  },
  {
   "cell_type": "code",
   "execution_count": 1,
   "id": "648eba44-a5dd-4383-910b-ad3b76b2661e",
   "metadata": {},
   "outputs": [
    {
     "name": "stdout",
     "output_type": "stream",
     "text": [
      "Defaulting to user installation because normal site-packages is not writeable\n",
      "Collecting librosa\n",
      "  Downloading librosa-0.9.1-py3-none-any.whl (213 kB)\n",
      "     |████████████████████████████████| 213 kB 15.9 MB/s            \n",
      "\u001b[?25hRequirement already satisfied: packaging>=20.0 in /usr/local/lib/python3.6/site-packages (from librosa) (21.2)\n",
      "Collecting soundfile>=0.10.2\n",
      "  Downloading SoundFile-0.10.3.post1-py2.py3-none-any.whl (21 kB)\n",
      "Requirement already satisfied: numpy>=1.17.0 in /usr/local/lib64/python3.6/site-packages (from librosa) (1.19.5)\n",
      "Requirement already satisfied: scipy>=1.2.0 in /usr/local/lib64/python3.6/site-packages (from librosa) (1.5.4)\n",
      "Collecting numba>=0.45.1\n",
      "  Downloading numba-0.53.1-cp36-cp36m-manylinux2014_x86_64.whl (3.4 MB)\n",
      "     |████████████████████████████████| 3.4 MB 114.3 MB/s            \n",
      "\u001b[?25hRequirement already satisfied: scikit-learn>=0.19.1 in /usr/local/lib64/python3.6/site-packages (from librosa) (0.24.2)\n",
      "Collecting pooch>=1.0\n",
      "  Downloading pooch-1.6.0-py3-none-any.whl (56 kB)\n",
      "     |████████████████████████████████| 56 kB 4.6 MB/s             \n",
      "\u001b[?25hCollecting audioread>=2.1.5\n",
      "  Downloading audioread-2.1.9.tar.gz (377 kB)\n",
      "     |████████████████████████████████| 377 kB 108.6 MB/s            \n",
      "\u001b[?25h  Preparing metadata (setup.py) ... \u001b[?25ldone\n",
      "\u001b[?25hCollecting resampy>=0.2.2\n",
      "  Downloading resampy-0.2.2.tar.gz (323 kB)\n",
      "     |████████████████████████████████| 323 kB 89.9 MB/s            \n",
      "\u001b[?25h  Preparing metadata (setup.py) ... \u001b[?25ldone\n",
      "\u001b[?25hRequirement already satisfied: decorator>=4.0.10 in /usr/lib/python3.6/site-packages (from librosa) (4.2.1)\n",
      "Requirement already satisfied: joblib>=0.14 in /usr/local/lib/python3.6/site-packages (from librosa) (1.1.0)\n",
      "Collecting llvmlite<0.37,>=0.36.0rc1\n",
      "  Downloading llvmlite-0.36.0-cp36-cp36m-manylinux2010_x86_64.whl (25.3 MB)\n",
      "     |████████████████████████████████| 25.3 MB 32.0 MB/s            \n",
      "\u001b[?25hRequirement already satisfied: setuptools in /usr/local/lib/python3.6/site-packages (from numba>=0.45.1->librosa) (58.5.3)\n",
      "Requirement already satisfied: pyparsing<3,>=2.0.2 in /usr/local/lib/python3.6/site-packages (from packaging>=20.0->librosa) (2.4.7)\n",
      "Collecting appdirs>=1.3.0\n",
      "  Downloading appdirs-1.4.4-py2.py3-none-any.whl (9.6 kB)\n",
      "Requirement already satisfied: requests>=2.19.0 in /usr/local/lib/python3.6/site-packages (from pooch>=1.0->librosa) (2.26.0)\n",
      "Requirement already satisfied: six>=1.3 in /usr/local/lib/python3.6/site-packages (from resampy>=0.2.2->librosa) (1.15.0)\n",
      "Requirement already satisfied: threadpoolctl>=2.0.0 in /usr/local/lib/python3.6/site-packages (from scikit-learn>=0.19.1->librosa) (3.0.0)\n",
      "Requirement already satisfied: cffi>=1.0 in /usr/lib64/python3.6/site-packages (from soundfile>=0.10.2->librosa) (1.11.5)\n",
      "Requirement already satisfied: pycparser in /usr/lib/python3.6/site-packages (from cffi>=1.0->soundfile>=0.10.2->librosa) (2.14)\n",
      "Requirement already satisfied: charset-normalizer~=2.0.0 in /usr/local/lib/python3.6/site-packages (from requests>=2.19.0->pooch>=1.0->librosa) (2.0.7)\n",
      "Requirement already satisfied: urllib3<1.27,>=1.21.1 in /usr/local/lib/python3.6/site-packages (from requests>=2.19.0->pooch>=1.0->librosa) (1.26.7)\n",
      "Requirement already satisfied: certifi>=2017.4.17 in /usr/local/lib/python3.6/site-packages (from requests>=2.19.0->pooch>=1.0->librosa) (2021.10.8)\n",
      "Requirement already satisfied: idna<4,>=2.5 in /usr/local/lib/python3.6/site-packages (from requests>=2.19.0->pooch>=1.0->librosa) (3.3)\n",
      "Building wheels for collected packages: audioread, resampy\n",
      "  Building wheel for audioread (setup.py) ... \u001b[?25ldone\n",
      "\u001b[?25h  Created wheel for audioread: filename=audioread-2.1.9-py3-none-any.whl size=23154 sha256=6b3d1bb40cb8c2b3f3545f5fe54f1bf6d174aa668ee18adff8c82465f21944d0\n",
      "  Stored in directory: /home/ngmatta/.cache/pip/wheels/de/14/0a/863e4ed680b3204444cf486733e609d7ff7abe8fceafab67dc\n",
      "  Building wheel for resampy (setup.py) ... \u001b[?25ldone\n",
      "\u001b[?25h  Created wheel for resampy: filename=resampy-0.2.2-py3-none-any.whl size=320731 sha256=aeb544b2708859636cacda3c1bab148a7a2954f888fecdbd1cfbbe54299c94d6\n",
      "  Stored in directory: /home/ngmatta/.cache/pip/wheels/cf/d4/04/49d8824a42bd9f9b11d502727965b9997f0d41d2b22ae4f645\n",
      "Successfully built audioread resampy\n",
      "Installing collected packages: llvmlite, numba, appdirs, soundfile, resampy, pooch, audioread, librosa\n",
      "Successfully installed appdirs-1.4.4 audioread-2.1.9 librosa-0.9.1 llvmlite-0.36.0 numba-0.53.1 pooch-1.6.0 resampy-0.2.2 soundfile-0.10.3.post1\n"
     ]
    }
   ],
   "source": [
    "!pip install librosa"
   ]
  },
  {
   "cell_type": "code",
   "execution_count": 44,
   "id": "b76ef54e",
   "metadata": {},
   "outputs": [
    {
     "data": {
      "image/png": "[encoded data removed]",
      "text/plain": [
       "<Figure size 1008x360 with 1 Axes>"
      ]
     },
     "metadata": {
      "needs_background": "light"
     },
     "output_type": "display_data"
    }
   ],
   "source": [
    "import librosa\n",
    "import librosa.display\n",
    "import matplotlib.pyplot as plt\n",
    "import os\n",
    "root = 'MELD.Raw/audio_train_splits/'\n",
    "file = 'dia415_utt0.wav'\n",
    "audio_array, sampling_rate = librosa.load(os.path.join(root, file), duration=3.5, offset=0.6)\n",
    "plt.figure(figsize=(14, 5) )\n",
    "plt.title( 'Audio Wave')\n",
    "plt.xlabel('time')\n",
    "plt.ylabel('Amplitude')\n",
    "librosa.display.waveshow(audio_array, sr=sampling_rate)\n",
    "plt.show()"
   ]
  },
  {
   "cell_type": "code",
   "execution_count": 11,
   "id": "1d898cce",
   "metadata": {},
   "outputs": [
    {
     "data": {
      "text/plain": [
       "'./MELD.Raw/audio_train_splits/dia415_utt0.mp3'"
      ]
     },
     "execution_count": 11,
     "metadata": {},
     "output_type": "execute_result"
    }
   ],
   "source": [
    "os.path.join(root, file)"
   ]
  },
  {
   "cell_type": "code",
   "execution_count": 12,
   "id": "e64dbc22",
   "metadata": {},
   "outputs": [
    {
     "name": "stdout",
     "output_type": "stream",
     "text": [
      "MELD.Raw  MELD.Raw.tar.gz  Untitled1.ipynb  Untitled.ipynb\r\n"
     ]
    }
   ],
   "source": [
    "!ls"
   ]
  },
  {
   "cell_type": "code",
   "execution_count": 18,
   "id": "67aff89e",
   "metadata": {},
   "outputs": [],
   "source": [
    "from moviepy.editor import VideoFileClip\n",
    "def convert_video_to_audio_moviepy(video_file, output_directory, output_ext=\"wav\"):\n",
    "    \"\"\"Converts video to audio using MoviePy library\n",
    "    that uses `ffmpeg` under the hood\"\"\"\n",
    "    filename, ext = os.path.splitext(video_file)\n",
    "    clip = VideoFileClip(video_file)\n",
    "    filename = filename.split('/')[2]\n",
    "    clip.audio.write_audiofile(f\"{output_directory}{filename}.{output_ext}\")"
   ]
  },
  {
   "cell_type": "code",
   "execution_count": 23,
   "id": "01906c2a",
   "metadata": {},
   "outputs": [
    {
     "name": "stdout",
     "output_type": "stream",
     "text": [
      "MoviePy - Writing audio in MELD.Raw/audio_train_splits/dia415_utt0.wav\n"
     ]
    },
    {
     "name": "stderr",
     "output_type": "stream",
     "text": [
      "                                                       "
     ]
    },
    {
     "name": "stdout",
     "output_type": "stream",
     "text": [
      "MoviePy - Done.\n"
     ]
    },
    {
     "name": "stderr",
     "output_type": "stream",
     "text": [
      "\r"
     ]
    }
   ],
   "source": [
    "convert_video_to_audio_moviepy('MELD.Raw/train_splits/dia415_utt0.mp4', 'MELD.Raw/audio_train_splits/')"
   ]
  },
  {
   "cell_type": "code",
   "execution_count": 39,
   "id": "0f1a4b98",
   "metadata": {},
   "outputs": [],
   "source": [
    "import numpy as np\n",
    "def extract_features(x, sample_rate):\n",
    "    result=np.array([])\n",
    "    #MFCC\n",
    "    mfccs = np.mean(librosa.feature.mfcc(y=x, sr=sample_rate).T, axis=0)\n",
    "    result = np.hstack((result, mfccs))\n",
    "    #Chroma\n",
    "    stft = np.abs(librosa.stft(x))\n",
    "    chroma = np.mean(librosa.feature.chroma_stft(S=stft, sr=sample_rate).T, axis=0)\n",
    "    result = np.hstack((result, chroma))\n",
    "    #Mel Spectrogram\n",
    "    mel = np.mean (librosa.feature.melspectrogram(x, sr=sample_rate).T,axis=0)\n",
    "    result = np.hstack((result, mel))\n",
    "    return result"
   ]
  },
  {
   "cell_type": "code",
   "execution_count": 40,
   "id": "dc0109a2",
   "metadata": {},
   "outputs": [
    {
     "data": {
      "text/plain": [
       "array([-3.17018341e+02,  1.40831390e+02, -5.10405636e+00,  2.83516293e+01,\n",
       "       -6.86708450e+00,  1.24096546e+01, -9.88710022e+00, -7.84974957e+00,\n",
       "       -6.63044214e+00,  7.05018234e+00, -4.28008080e+00,  1.75938535e+00,\n",
       "       -9.61697197e+00,  5.88234603e-01, -4.50961113e+00,  3.52613449e+00,\n",
       "       -1.31015587e+00,  2.31617188e+00, -7.11768341e+00, -4.03496563e-01,\n",
       "        7.04457760e-01,  6.94444954e-01,  6.75487399e-01,  6.08029068e-01,\n",
       "        6.49089515e-01,  7.00766206e-01,  7.41631567e-01,  6.89210296e-01,\n",
       "        6.66181803e-01,  7.75207639e-01,  7.69274712e-01,  7.20578730e-01,\n",
       "        2.35938914e-02,  7.76813805e-01,  1.97860968e+00,  7.74067819e-01,\n",
       "        1.61485612e+00,  5.81745744e-01,  4.84325022e-01,  5.23915827e-01,\n",
       "        3.60655725e-01,  2.11262986e-01,  2.07171589e-01,  7.28783250e-01,\n",
       "        8.52340102e-01,  2.66636968e-01,  3.90486747e-01,  5.19140840e-01,\n",
       "        7.95889914e-01,  1.21113408e+00,  5.94976604e-01,  6.35577679e-01,\n",
       "        3.61246049e-01,  6.73447251e-01,  1.83379769e-01,  3.28600109e-02,\n",
       "        2.74351053e-02,  5.15874028e-02,  9.56282839e-02,  1.31508648e-01,\n",
       "        7.43002295e-02,  8.59475210e-02,  9.40041915e-02,  1.36060983e-01,\n",
       "        3.09219033e-01,  2.94363856e-01,  8.99832249e-02,  3.13930064e-02,\n",
       "        1.15780951e-02,  1.43528385e-02,  6.92759920e-03,  1.22638401e-02,\n",
       "        1.18207140e-02,  8.12179875e-03,  2.70766523e-02,  7.87227079e-02,\n",
       "        7.03922957e-02,  2.42714249e-02,  2.35072114e-02,  1.16710868e-02,\n",
       "        1.54031189e-02,  2.39864495e-02,  9.06714052e-02,  8.45427439e-02,\n",
       "        1.17818534e-01,  6.12234473e-02,  3.47024873e-02,  1.42050562e-02,\n",
       "        3.69679974e-03,  3.33066098e-03,  1.59171149e-02,  1.79279894e-02,\n",
       "        7.21239438e-03,  2.52494309e-02,  8.54585785e-03,  3.56429885e-03,\n",
       "        2.63838191e-03,  1.84406247e-03,  2.26179743e-03,  2.69622169e-03,\n",
       "        1.56862475e-03,  1.48990867e-03,  1.13994465e-03,  1.46654469e-03,\n",
       "        1.01971673e-03,  8.47941381e-04,  1.05937896e-03,  9.89992754e-04,\n",
       "        9.17345576e-04,  4.90717066e-04,  9.97638213e-04,  8.84297013e-04,\n",
       "        8.02629336e-04,  7.35213165e-04,  5.81659318e-04,  6.49161579e-04,\n",
       "        6.94608665e-04,  5.38728025e-04,  5.29628189e-04,  4.78593720e-04,\n",
       "        5.27491677e-04,  4.42283053e-04,  4.36197413e-04,  6.61341066e-04,\n",
       "        7.55673740e-04,  6.60473423e-04,  6.93815586e-04,  4.00509132e-04,\n",
       "        2.58063519e-04,  2.78937776e-04,  2.13383697e-04,  1.33012101e-04,\n",
       "        1.61287651e-04,  1.88277889e-04,  1.79617738e-04,  1.15587492e-04,\n",
       "        1.11171372e-04,  1.09441273e-04,  8.74336984e-05,  6.96548959e-05,\n",
       "        7.83760552e-05,  6.96432035e-05,  6.37692938e-05,  5.72993085e-05,\n",
       "        4.82434334e-05,  4.72034990e-05,  4.37733906e-05,  4.01948964e-05,\n",
       "        3.83149891e-05,  3.43242355e-05,  3.57235549e-05,  2.91462875e-05,\n",
       "        2.74105078e-05,  2.10426660e-05,  1.99800670e-05,  1.48961626e-05,\n",
       "        1.22484107e-05,  1.02987105e-05,  5.07358982e-06,  8.54299287e-07])"
      ]
     },
     "execution_count": 40,
     "metadata": {},
     "output_type": "execute_result"
    }
   ],
   "source": [
    "extract_features(audio_array, sampling_rate)"
   ]
  },
  {
   "cell_type": "code",
   "execution_count": 42,
   "id": "307a9b74",
   "metadata": {},
   "outputs": [
    {
     "data": {
      "text/plain": [
       "<matplotlib.colorbar.Colorbar at 0x7fb34dafd7b8>"
      ]
     },
     "execution_count": 42,
     "metadata": {},
     "output_type": "execute_result"
    },
    {
     "data": {
      "image/png": "[encoded data removed]",
      "text/plain": [
       "<Figure size 1008x360 with 2 Axes>"
      ]
     },
     "metadata": {
      "needs_background": "light"
     },
     "output_type": "display_data"
    }
   ],
   "source": [
    "#display Spectrogram\n",
    "X = librosa.stft(audio_array)\n",
    "Xdb = librosa.amplitude_to_db(abs(X))\n",
    "plt.figure(figsize=(14, 5))\n",
    "librosa.display.specshow(Xdb, sr=sampling_rate, x_axis='time', y_axis='hz') \n",
    "#If to pring log of frequencies  \n",
    "#librosa.display.specshow(Xdb, sr=sr, x_axis='time', y_axis='log')\n",
    "plt.colorbar()"
   ]
  },
  {
   "cell_type": "code",
   "execution_count": null,
   "id": "efd1acc0",
   "metadata": {},
   "outputs": [],
   "source": []
  }
 ],
 "metadata": {
  "kernelspec": {
   "display_name": "Python 3",
   "language": "python",
   "name": "python3"
  },
  "language_info": {
   "codemirror_mode": {
    "name": "ipython",
    "version": 3
   },
   "file_extension": ".py",
   "mimetype": "text/x-python",
   "name": "python",
   "nbconvert_exporter": "python",
   "pygments_lexer": "ipython3",
   "version": "3.6.8"
  }
 },
 "nbformat": 4,
 "nbformat_minor": 5
}
